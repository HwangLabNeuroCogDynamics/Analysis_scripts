{
 "cells": [
  {
   "cell_type": "markdown",
   "metadata": {},
   "source": [
    "## Converting behavioral logs of MRI data to '.1D' text files for use with AFNI"
   ]
  },
  {
   "cell_type": "code",
   "execution_count": null,
   "metadata": {},
   "outputs": [],
   "source": [
    "import numpy as np  # whole numpy lib is available, prepend 'np.'\n",
    "from numpy import average, std\n",
    "from numpy.random import random, randint, normal, shuffle,uniform\n",
    "import scipy\n",
    "from scipy.stats import ttest_ind\n",
    "import seaborn as sns\n",
    "import fnmatch\n",
    "import os  # handy system and path functions\n",
    "import sys  # to get file system encoding\n",
    "import csv\n",
    "from pandas import DataFrame, read_csv\n",
    "import matplotlib.pyplot as plt\n",
    "import pandas as pd  \n",
    "import matplotlib"
   ]
  },
  {
   "cell_type": "code",
   "execution_count": 2,
   "metadata": {},
   "outputs": [],
   "source": [
    "sub='110'"
   ]
  },
  {
   "cell_type": "code",
   "execution_count": 3,
   "metadata": {},
   "outputs": [],
   "source": [
    "ROOT='/home/dcellier/RDSS/ThalHi_data/MRI_data/behavioral_data/'\n",
    "filen_pattern='%s_00%i_Task_THHS_20*_*_*.csv'"
   ]
  },
  {
   "cell_type": "code",
   "execution_count": null,
   "metadata": {},
   "outputs": [],
   "source": [
    "behav=pd.read_csv(ROOT+)"
   ]
  }
 ],
 "metadata": {
  "kernelspec": {
   "display_name": "Python 2",
   "language": "python",
   "name": "python2"
  },
  "language_info": {
   "codemirror_mode": {
    "name": "ipython",
    "version": 2
   },
   "file_extension": ".py",
   "mimetype": "text/x-python",
   "name": "python",
   "nbconvert_exporter": "python",
   "pygments_lexer": "ipython2",
   "version": "2.7.15"
  }
 },
 "nbformat": 4,
 "nbformat_minor": 2
}
