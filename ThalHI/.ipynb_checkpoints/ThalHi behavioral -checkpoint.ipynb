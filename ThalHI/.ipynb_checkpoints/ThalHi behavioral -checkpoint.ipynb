{
 "cells": [
  {
   "cell_type": "code",
   "execution_count": null,
   "metadata": {},
   "outputs": [],
   "source": [
    "import numpy as np  # whole numpy lib is available, prepend 'np.'\n",
    "from numpy import average, std\n",
    "from numpy.random import random, randint, normal, shuffle,uniform\n",
    "import scipy\n",
    "from scipy.stats import ttest_ind\n",
    "import seaborn as sns\n",
    "import fnmatch\n",
    "import os  # handy system and path functions\n",
    "import sys  # to get file system encoding\n",
    "import csv\n",
    "from pandas import DataFrame, read_csv\n",
    "import matplotlib.pyplot as plt\n",
    "import pandas as pd  \n",
    "import matplotlib\n",
    "print('Python version ' + sys.version)\n",
    "print('Pandas version ' + pd.__version__)\n",
    "print('Matplotlib version ' + matplotlib.__version__)"
   ]
  },
  {
   "cell_type": "code",
   "execution_count": null,
   "metadata": {},
   "outputs": [],
   "source": [
    "subs_pilot_1=['57','Emily','59','58','60','61','62','63','64']\n",
    "subjects=[subs_pilot_1]\n",
    "where_files='/home/dcellier/RDSS/ThalHi_Data/behav_data/'#"
   ]
  },
  {
   "cell_type": "code",
   "execution_count": null,
   "metadata": {},
   "outputs": [],
   "source": [
    "all_iters_all=[] # all_results across all iterations, compiled in one DF per iteration\n",
    "all_iters_sub=[] # sub_results across all iterations, compiled in a list of lists of subjects\n",
    "#print(all_results)\n",
    "files=os.listdir(where_files)\n",
    "for l in subjects:\n",
    "    all_results=pd.DataFrame()\n",
    "    sub_results=[]\n",
    "    for sub in l:\n",
    "        thisSub_blocks=pd.DataFrame()\n",
    "        pattern='%s_00*_Task_THHS_201*_*_*_*.csv' %sub\n",
    "        for f in files:\n",
    "            if fnmatch.fnmatch(f,pattern):\n",
    "                thisSubf=where_files+f\n",
    "                print(thisSubf)\n",
    "                thisSub_result=pd.read_csv(thisSubf,engine='python')# not sure what engine = python is doing\n",
    "                thisSub_result_minusNR=thisSub_result.copy() #taking out non responses \n",
    "                thisSub_result_minusNR=thisSub_result_minusNR[thisSub_result_minusNR.trial_Corr != -1]\n",
    "                thisSub_blocks=thisSub_blocks.append(thisSub_result_minusNR)\n",
    "        sub_results.append(thisSub_blocks)\n",
    "        all_results=all_results.append(thisSub_blocks,ignore_index=True)\n",
    "    all_iters_all.append(all_results)\n",
    "    all_iters_sub.append(sub_results)"
   ]
  },
  {
   "cell_type": "code",
   "execution_count": null,
   "metadata": {
    "scrolled": true
   },
   "outputs": [],
   "source": [
    "#all_iters_sub[0][0][all_iters_sub[0][0].trial_Corr == -1 ]"
   ]
  },
  {
   "cell_type": "code",
   "execution_count": null,
   "metadata": {},
   "outputs": [],
   "source": [
    "all_iters_sub[0][0].groupby(['Trial_type'])['rt','trial_Corr'].mean()"
   ]
  },
  {
   "cell_type": "code",
   "execution_count": null,
   "metadata": {},
   "outputs": [],
   "source": [
    "all_iters_sub[0][1].rt=all_iters_sub[0][1].rt.astype('float64')"
   ]
  },
  {
   "cell_type": "code",
   "execution_count": null,
   "metadata": {},
   "outputs": [],
   "source": [
    "all_iters_sub[0][1].groupby(['Trial_type'])['rt','trial_Corr'].mean()"
   ]
  },
  {
   "cell_type": "code",
   "execution_count": null,
   "metadata": {},
   "outputs": [],
   "source": [
    "#thisSub_blocks"
   ]
  },
  {
   "cell_type": "code",
   "execution_count": null,
   "metadata": {},
   "outputs": [],
   "source": [
    "all_iters_sub[0][2].rt=all_iters_sub[0][2].rt.astype('float64')\n",
    "all_iters_sub[0][2].groupby(['Trial_type'])['rt','trial_Corr'].mean()"
   ]
  },
  {
   "cell_type": "code",
   "execution_count": null,
   "metadata": {},
   "outputs": [],
   "source": [
    "all_iters_sub[0][3].rt=all_iters_sub[0][3].rt.astype('float64')\n",
    "all_iters_sub[0][3].groupby(['Trial_type'])['rt','trial_Corr'].mean()"
   ]
  },
  {
   "cell_type": "code",
   "execution_count": null,
   "metadata": {},
   "outputs": [],
   "source": [
    "all_iters_sub[0][4].rt=all_iters_sub[0][4].rt.astype('float64')\n",
    "all_iters_sub[0][4].groupby(['Trial_type'])['rt','trial_Corr'].mean()"
   ]
  },
  {
   "cell_type": "code",
   "execution_count": null,
   "metadata": {},
   "outputs": [],
   "source": [
    "all_iters_sub[0][4].rt=all_iters_sub[0][4].rt.astype('float64')\n",
    "all_iters_sub[0][4].groupby(['Trial_type'])['rt','trial_Corr'].mean()"
   ]
  },
  {
   "cell_type": "code",
   "execution_count": null,
   "metadata": {},
   "outputs": [],
   "source": [
    "all_iters_sub[0][5].rt=all_iters_sub[0][5].rt.astype('float64')\n",
    "all_iters_sub[0][5].groupby(['Trial_type'])['rt','trial_Corr'].mean()"
   ]
  },
  {
   "cell_type": "code",
   "execution_count": null,
   "metadata": {},
   "outputs": [],
   "source": [
    "all_iters_sub[0][6].rt=all_iters_sub[0][6].rt.astype('float64')\n",
    "all_iters_sub[0][6].groupby(['Trial_type'])['rt','trial_Corr'].mean()"
   ]
  },
  {
   "cell_type": "code",
   "execution_count": null,
   "metadata": {},
   "outputs": [],
   "source": [
    "all_iters_sub[0][7].rt=all_iters_sub[0][7].rt.astype('float64')\n",
    "all_iters_sub[0][7].groupby(['Trial_type'])['rt','trial_Corr'].mean()"
   ]
  },
  {
   "cell_type": "code",
   "execution_count": null,
   "metadata": {},
   "outputs": [],
   "source": []
  }
 ],
 "metadata": {
  "kernelspec": {
   "display_name": "Python 3",
   "language": "python",
   "name": "python3"
  },
  "language_info": {
   "codemirror_mode": {
    "name": "ipython",
    "version": 3
   },
   "file_extension": ".py",
   "mimetype": "text/x-python",
   "name": "python",
   "nbconvert_exporter": "python",
   "pygments_lexer": "ipython3",
   "version": "3.7.1"
  }
 },
 "nbformat": 4,
 "nbformat_minor": 2
}
