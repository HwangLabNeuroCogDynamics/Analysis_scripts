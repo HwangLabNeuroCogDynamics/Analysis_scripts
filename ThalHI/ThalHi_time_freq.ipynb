{
 "cells": [
  {
   "cell_type": "code",
   "execution_count": 1,
   "metadata": {},
   "outputs": [
    {
     "name": "stdout",
     "output_type": "stream",
     "text": [
      "Python version 3.7.1 (default, Dec 14 2018, 19:28:38) \n",
      "[GCC 7.3.0]\n",
      "Pandas version 0.23.4\n",
      "Matplotlib version 3.0.2\n"
     ]
    }
   ],
   "source": [
    "import numpy as np  # whole numpy lib is available, prepend 'np.'\n",
    "from numpy import average, std\n",
    "from numpy.random import random, randint, normal, shuffle,uniform\n",
    "import scipy\n",
    "from scipy.stats import ttest_ind\n",
    "import seaborn as sns\n",
    "import fnmatch\n",
    "import os  # handy system and path functions\n",
    "import sys  # to get file system encoding\n",
    "import csv\n",
    "from pandas import DataFrame, read_csv\n",
    "import matplotlib.pyplot as plt\n",
    "import pandas as pd  \n",
    "import matplotlib\n",
    "print('Python version ' + sys.version)\n",
    "print('Pandas version ' + pd.__version__)\n",
    "print('Matplotlib version ' + matplotlib.__version__)\n",
    "import mne\n",
    "#import FOOOF\n",
    "from mne.time_frequency import tfr_morlet"
   ]
  },
  {
   "cell_type": "code",
   "execution_count": 2,
   "metadata": {},
   "outputs": [
    {
     "name": "stdout",
     "output_type": "stream",
     "text": [
      "Reading /data/backed_up/shared/ThalHi_data/eeg_preproc/70/cue-epo.fif ...\n",
      "    Found the data of interest:\n",
      "        t =    -800.78 ...    1500.00 ms\n",
      "        0 CTF compensation matrices available\n",
      "412 matching events found\n",
      "Applying baseline correction (mode: mean)\n",
      "412 matching events found\n",
      "Applying baseline correction (mode: mean)\n",
      "Adding metadata with 18 columns\n",
      "0 projection items activated\n"
     ]
    }
   ],
   "source": [
    "ROOT='/data/backed_up/shared/ThalHi_data/eeg_preproc/70/'\n",
    "c=mne.read_epochs(ROOT+'cue-epo.fif')"
   ]
  },
  {
   "cell_type": "code",
   "execution_count": 3,
   "metadata": {},
   "outputs": [
    {
     "data": {
      "text/plain": [
       "<EpochsFIF  |   412 events (all good), -0.800781 - 1.5 sec, baseline [-0.800781, -0.3], ~241.1 MB, data loaded, with metadata,\n",
       " 'EDS_trig': 98\n",
       " 'IDS_trig': 100\n",
       " 'Stay_trig': 214>"
      ]
     },
     "execution_count": 3,
     "metadata": {},
     "output_type": "execute_result"
    }
   ],
   "source": [
    "c"
   ]
  },
  {
   "cell_type": "code",
   "execution_count": 4,
   "metadata": {},
   "outputs": [
    {
     "data": {
      "text/plain": [
       "<EpochsFIF  |   98 events (all good), -0.800781 - 1.5 sec, baseline [-0.800781, -0.3], ~57.5 MB, data loaded, with metadata,\n",
       " 'EDS_trig': 98>"
      ]
     },
     "execution_count": 4,
     "metadata": {},
     "output_type": "execute_result"
    }
   ],
   "source": [
    "c['EDS_trig']"
   ]
  },
  {
   "cell_type": "code",
   "execution_count": null,
   "metadata": {},
   "outputs": [],
   "source": []
  }
 ],
 "metadata": {
  "kernelspec": {
   "display_name": "Python 2",
   "language": "python",
   "name": "python2"
  },
  "language_info": {
   "codemirror_mode": {
    "name": "ipython",
    "version": 2
   },
   "file_extension": ".py",
   "mimetype": "text/x-python",
   "name": "python",
   "nbconvert_exporter": "python",
   "pygments_lexer": "ipython2",
   "version": "2.7.15"
  }
 },
 "nbformat": 4,
 "nbformat_minor": 2
}
