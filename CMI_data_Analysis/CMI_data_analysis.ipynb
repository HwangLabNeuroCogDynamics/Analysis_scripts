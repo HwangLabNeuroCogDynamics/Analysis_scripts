{
 "cells": [
  {
   "cell_type": "markdown",
   "metadata": {},
   "source": [
    "# Fourier transforming 2 second epochs"
   ]
  },
  {
   "cell_type": "code",
   "execution_count": null,
   "metadata": {},
   "outputs": [],
   "source": [
    "#should be using the scrubbed epochs but its ok for now\n",
    "psds,freqs=mne.time_frequency.psd_welch(twoSec_EC_epoch,fmin=1,fmax=50,tmax=2,n_overlap=(len(twoSec_EC_epoch.times)*.125))\n",
    "# default FFT is 256\n",
    "# n_overlap at 12.5% like sangtae\n",
    "# length of ea Welch segment defaults to 256\n",
    "# *** this function is taking issue w/ picks=realData-- don't know why ****\n",
    "# there is another function, mne.time_frequency.psd_array_welch-- what's the diff?\n",
    "# psds = psd's, shape (n_epochs,n_channels,n_freqs)\n",
    "    # should I average over n_epochs now?\n",
    "        # and then for IAF it would be the avg psd's for occiptal electrodes & alpha freqs ?\n",
    "        "
   ]
  },
  {
   "cell_type": "code",
   "execution_count": null,
   "metadata": {},
   "outputs": [],
   "source": [
    "twoSec_EC_epoch.plot_psd_topomap(ch_type='eeg', normalize=True,cmap='inferno',outlines='head') \n",
    "#interactive mode possible in ipython"
   ]
  },
  {
   "cell_type": "code",
   "execution_count": null,
   "metadata": {},
   "outputs": [],
   "source": [
    "# electrode clustering: run on all sbujects, average over\n",
    "# similarity matrix bween every electrode and every other, builds up hierarchically\n",
    "# w matlab: given all [Power Spectrum X channel] matrix, pdist function yields something that you feed into dendrogram (find scipy equivalent)\n",
    "\n",
    "# average in time domain (of epochs) across clusters, then run psd_welch on that. FOOOF takes a matrix of the psd's\n",
    "# frontal-central cluster and parietal occipital cluster manually for now, run FOOOF and give: peak freq, amp, bandwidth for theta/beta and alpha in parietal/occ cluster\n",
    "# give the slope and y-int for ea of the 2 clusters\n",
    "# 13 neural data points per person: beta fareq, beta amp, beta bandwidth, theta freq, theta amp, thea bandwidth, alpha freq, alpha amp, alpha bandwidth, frontal slope, frontal yint, posterior slope, yint   \n",
    "# demographic data points (age/sex)"
   ]
  }
 ],
 "metadata": {
  "kernelspec": {
   "display_name": "Python 2",
   "language": "python",
   "name": "python2"
  },
  "language_info": {
   "codemirror_mode": {
    "name": "ipython",
    "version": 2
   },
   "file_extension": ".py",
   "mimetype": "text/x-python",
   "name": "python",
   "nbconvert_exporter": "python",
   "pygments_lexer": "ipython2",
   "version": "2.7.15"
  }
 },
 "nbformat": 4,
 "nbformat_minor": 2
}
