{
 "cells": [
  {
   "cell_type": "code",
   "execution_count": 27,
   "metadata": {},
   "outputs": [],
   "source": [
    "import mne\n",
    "from mne.datasets import sample\n",
    "from mne import io\n",
    "from mne.preprocessing import create_ecg_epochs, create_eog_epochs\n",
    "from mne.preprocessing import ICA\n",
    "import numpy as np\n",
    "import pandas as pd\n",
    "import matplotlib.pyplot as plt\n",
    "import os\n",
    "import fnmatch\n",
    "#import autoreject\n",
    "#from autoreject import *\n"
   ]
  },
  {
   "cell_type": "code",
   "execution_count": 28,
   "metadata": {},
   "outputs": [],
   "source": [
    "ROOT = '/home/dcellier/RDSS/CMI_data/MIPDB/EEGData/'"
   ]
  },
  {
   "cell_type": "code",
   "execution_count": 29,
   "metadata": {},
   "outputs": [
    {
     "data": {
      "text/plain": [
       "72"
      ]
     },
     "execution_count": 29,
     "metadata": {},
     "output_type": "execute_result"
    }
   ],
   "source": [
    "len(os.listdir(ROOT))-3"
   ]
  },
  {
   "cell_type": "code",
   "execution_count": 30,
   "metadata": {},
   "outputs": [],
   "source": [
    "#for f in os.listdir(ROOT):\n",
    "    #print(f)\n",
    "    #if not os.path.exists(ROOT+f+'/EEG/raw/csv_format/'):\n",
    "     #   print(f)"
   ]
  },
  {
   "cell_type": "code",
   "execution_count": 67,
   "metadata": {},
   "outputs": [
    {
     "name": "stdout",
     "output_type": "stream",
     "text": [
      "nothin\n",
      "A00053440001_events.csv\n",
      "A00053440002_events.csv\n",
      "A00053440003_events.csv\n",
      "A00053440004_events.csv\n",
      "A00053440005_events.csv\n",
      "A00053440006_events.csv\n",
      "nothin\n",
      "nothin\n",
      "nothin\n",
      "A00059578001_events.csv\n",
      "A00059578002_events.csv\n",
      "A00059578003_events.csv\n",
      "A00059578004_events.csv\n",
      "A00059578005_events.csv\n",
      "A00059578006_events.csv\n",
      "A00059578007_events.csv\n",
      "A00059578008_events.csv\n",
      "A00059578009_events.csv\n",
      "A00055628002_events.csv\n",
      "A00055628003_events.csv\n",
      "A00055628004_events.csv\n",
      "A00055628005_events.csv\n",
      "A00055628006_events.csv\n",
      "A00055628007_events.csv\n",
      "A00055628008_events.csv\n",
      "A00055628009_events.csv\n",
      "A00059904001_events.csv\n",
      "A00059904002_events.csv\n",
      "A00059904003_events.csv\n",
      "A00059904004_events.csv\n",
      "A00059904005_events.csv\n",
      "A00059904006_events.csv\n",
      "A00059904007_events.csv\n",
      "A00059904008_events.csv\n",
      "A00062919 001_events.csv\n",
      "A00062919 002_events.csv\n",
      "A00062919 003_events.csv\n",
      "A00062919 004_events.csv\n",
      "A00062919 005_events.csv\n",
      "A00062919 006_events.csv\n",
      "A00062919 007_events.csv\n",
      "A00062919 008_events.csv\n",
      "A00062919 009_events.csv\n",
      "A00063051 001_events.csv\n",
      "A00063051 002_events.csv\n",
      "A00063051 003_events.csv\n",
      "A00063051 004_events.csv\n",
      "A00063051 005_events.csv\n",
      "A00063051 006_events.csv\n",
      "A00063051 007_events.csv\n",
      "A00063051 008_events.csv\n",
      "A00063051 009_events.csv\n",
      "A00063117 001_events.csv\n",
      "A00063117 002_events.csv\n",
      "A00063117 003_events.csv\n",
      "A00063117 004_events.csv\n",
      "A00063117 005_events.csv\n",
      "A00063117 006_events.csv\n",
      "A00063117 007_events.csv\n",
      "A00063117 008_events.csv\n",
      "A00063117 009_events.csv\n",
      "A00051955001_events.csv\n",
      "A00051955002_events.csv\n",
      "A00051955003_events.csv\n",
      "A00051955004_events.csv\n",
      "A00051955005_events.csv\n",
      "A00051955006_events.csv\n",
      "A00051955007_events.csv\n",
      "A00051955008_events.csv\n",
      "A00051955009_events.csv\n",
      "A00053597001_events.csv\n",
      "A00053597002_events.csv\n",
      "A00053597003_events.csv\n",
      "A00053597004_events.csv\n",
      "A00053597005_events.csv\n",
      "A00053597006_events.csv\n",
      "A00053597007_events.csv\n",
      "A00053597008_events.csv\n",
      "A00053597009_events.csv\n",
      "A00053909001_events.csv\n",
      "A00053909002_events.csv\n",
      "A00053909003_events.csv\n",
      "A00053909004_events.csv\n",
      "A00053909005_events.csv\n",
      "A00053909006_events.csv\n",
      "A00053909007_events.csv\n",
      "A00053909008_events.csv\n",
      "A00053909009_events.csv\n",
      "A00053990001_events.csv\n",
      "A00053990002_events.csv\n",
      "A00053990003_events.csv\n",
      "A00053990004_events.csv\n",
      "A00053990005_events.csv\n",
      "A00053990006_events.csv\n",
      "A00053990007_events.csv\n",
      "A00053990008_events.csv\n",
      "A00053990009_events.csv\n",
      "A00054023001_events.csv\n",
      "A00054023002_events.csv\n",
      "A00054023003_events.csv\n",
      "A00054023004_events.csv\n",
      "A00054023005_events.csv\n",
      "A00054023006_events.csv\n",
      "A00054023007_events.csv\n",
      "A00054023008_events.csv\n",
      "A00054023009_events.csv\n",
      "A00054039001_events.csv\n",
      "A00054039002_events.csv\n",
      "A00054039003_events.csv\n",
      "A00054039004_events.csv\n",
      "A00054039005_events.csv\n",
      "A00054039006_events.csv\n",
      "A00054039007_events.csv\n",
      "A00054039008_events.csv\n",
      "A00054039009_events.csv\n",
      "A00054207001_events.csv\n",
      "A00054207002_events.csv\n",
      "A00054207003_events.csv\n",
      "A00054207004_events.csv\n",
      "A00054207005_events.csv\n",
      "A00054207006_events.csv\n",
      "A00054207007_events.csv\n",
      "A00054207008_events.csv\n",
      "A00054207009_events.csv\n",
      "A00054239001_events.csv\n",
      "A00054239002_events.csv\n",
      "A00054239003_events.csv\n",
      "A00054239004_events.csv\n",
      "A00054239005_events.csv\n",
      "A00054239006_events.csv\n",
      "A00054239007_events.csv\n",
      "A00054239008_events.csv\n",
      "A00054239009_events.csv\n",
      "A00054287001_events.csv\n",
      "A00054287002_events.csv\n",
      "A00054287003_events.csv\n",
      "A00054287004_events.csv\n",
      "A00054287005_events.csv\n",
      "A00054287006_events.csv\n",
      "A00054287007_events.csv\n",
      "A00054287008_events.csv\n",
      "A00054287009_events.csv\n",
      "A00054359001_events.csv\n",
      "A00054359002_events.csv\n",
      "A00054359004_events.csv\n",
      "A00054359006_events.csv\n",
      "A00054359007_events.csv\n",
      "A00054359008_events.csv\n",
      "A00054359009_events.csv\n",
      "A00054369001_events.csv\n",
      "A00054369002_events.csv\n",
      "A00054369003_events.csv\n",
      "A00054369004_events.csv\n",
      "A00054369005_events.csv\n",
      "A00054369006_events.csv\n",
      "A00054369007_events.csv\n",
      "A00054369008_events.csv\n",
      "A00054369009_events.csv\n",
      "A00054387001_events.csv\n",
      "A00054387002_events.csv\n",
      "A00054387003_events.csv\n",
      "A00054387004_events.csv\n",
      "A00054387005_events.csv\n",
      "A00054387006_events.csv\n",
      "A00054387007_events.csv\n",
      "A00054387008_events.csv\n",
      "A00054387009_events.csv\n",
      "A00054400001_events.csv\n",
      "A00054400002_events.csv\n",
      "A00054400003_events.csv\n",
      "A00054400004_events.csv\n",
      "A00054400005_events.csv\n",
      "A00054400006_events.csv\n",
      "A00054400007_events.csv\n",
      "A00054400008_events.csv\n",
      "A00054400009_events.csv\n",
      "A00054417001_events.csv\n",
      "A00054417002_events.csv\n",
      "A00054417003_events.csv\n",
      "A00054417004_events.csv\n",
      "A00054417005_events.csv\n",
      "A00054417006_events.csv\n",
      "A00054417007_events.csv\n",
      "A00054417008_events.csv\n",
      "A00054417009_events.csv\n",
      "A00054432001_events.csv\n",
      "A00054432002_events.csv\n",
      "A00054432003_events.csv\n",
      "A00054432004_events.csv\n",
      "A00054469001_events.csv\n",
      "A00054469002_events.csv\n",
      "A00054469003_events.csv\n",
      "A00054469004_events.csv\n",
      "A00054469005_events.csv\n",
      "A00054469006_events.csv\n",
      "A00054469007_events.csv\n",
      "A00054469008_events.csv\n",
      "A00054469009_events.csv\n",
      "A00054517001_events.csv\n",
      "A00054517002_events.csv\n",
      "A00054517003_events.csv\n",
      "A00054517004_events.csv\n",
      "A00054517005_events.csv\n",
      "A00054517006_events.csv\n",
      "A00054517007_events.csv\n",
      "A00054517008_events.csv\n",
      "A00054517009_events.csv\n",
      "A00054597001_events.csv\n",
      "A00054597002_events.csv\n",
      "A00054597003_events.csv\n",
      "A00054597004_events.csv\n",
      "A00054597005_events.csv\n",
      "A00054597006_events.csv\n",
      "A00054597007_events.csv\n",
      "A00054597008_events.csv\n",
      "A00054597009_events.csv\n",
      "A00054623001_events.csv\n",
      "A00054623002_events.csv\n",
      "A00054623003_events.csv\n",
      "A00054623004_events.csv\n",
      "A00054623005_events.csv\n",
      "A00054623006_events.csv\n",
      "A00054623007_events.csv\n",
      "A00054623008_events.csv\n",
      "A00054623009_events.csv\n",
      "A00054647001_events.csv\n",
      "A00054647002_events.csv\n",
      "A00054647003_events.csv\n",
      "A00054647004_events.csv\n",
      "A00054647005_events.csv\n",
      "A00054647006_events.csv\n",
      "A00054647007_events.csv\n",
      "A00054647008_events.csv\n",
      "A00054647009_events.csv\n",
      "A00054666001_events.csv\n",
      "A00054666002_events.csv\n",
      "A00054666003_events.csv\n",
      "A00054666004_events.csv\n",
      "A00054666005_events.csv\n",
      "A00054666006_events.csv\n",
      "A00054666007_events.csv\n",
      "A00054666008_events.csv\n",
      "A00054666009_events.csv\n",
      "A00054694001_events.csv\n",
      "A00054694002_events.csv\n",
      "A00054694003_events.csv\n",
      "A00054694004_events.csv\n",
      "A00054694005_events.csv\n",
      "A00054694006_events.csv\n",
      "A00054694007_events.csv\n",
      "A00054694008_events.csv\n",
      "A00054694009_events.csv\n",
      "A00054721001_events.csv\n",
      "A00054721002_events.csv\n",
      "A00054721003_events.csv\n",
      "A00054721004_events.csv\n",
      "A00054721005_events.csv\n",
      "A00054721006_events.csv\n",
      "A00054721007_events.csv\n",
      "A00054721008_events.csv\n",
      "A00054721009_events.csv\n",
      "A00054743001_events.csv\n",
      "A00054743002_events.csv\n",
      "A00054743003_events.csv\n",
      "A00054743004_events.csv\n",
      "A00054743005_events.csv\n",
      "A00054743006_events.csv\n",
      "A00054743007_events.csv\n",
      "A00054743008_events.csv\n",
      "A00054743009_events.csv\n",
      "A00054753001_events.csv\n",
      "A00054753002_events.csv\n",
      "A00054753003_events.csv\n",
      "A00054753004_events.csv\n",
      "A00054753005_events.csv\n",
      "A00054753006_events.csv\n",
      "A00054753007_events.csv\n",
      "A00054753008_events.csv\n",
      "A00054753009_events.csv\n",
      "A00054766001_events.csv\n",
      "A00054766002_events.csv\n",
      "A00054766003_events.csv\n",
      "A00054766004_events.csv\n",
      "A00054766005_events.csv\n",
      "A00054766006_events.csv\n",
      "A00054766007_events.csv\n",
      "A00054766008_events.csv\n",
      "A00054766009_events.csv\n",
      "A00054817001_events.csv\n",
      "A00054817002_events.csv\n",
      "A00054817003_events.csv\n",
      "A00054817004_events.csv\n",
      "A00054817005_events.csv\n",
      "A00054817006_events.csv\n",
      "A00054817007_events.csv\n",
      "A00054817008_events.csv\n",
      "A00054817009_events.csv\n",
      "A00054836001_events.csv\n",
      "A00054836002_events.csv\n",
      "A00054836003_events.csv\n",
      "A00054836004_events.csv\n",
      "A00054836005_events.csv\n",
      "A00054836006_events.csv\n",
      "A00054836007_events.csv\n",
      "A00054836008_events.csv\n",
      "A00054836009_events.csv\n",
      "A00054894001_events.csv\n",
      "A00054894002_events.csv\n",
      "A00054894003_events.csv\n",
      "A00054894004_events.csv\n",
      "A00054894005_events.csv\n",
      "A00054894006_events.csv\n",
      "A00054894007_events.csv\n",
      "A00054894008_events.csv\n",
      "A00054894009_events.csv\n",
      "A00054923001_events.csv\n",
      "A00054923002_events.csv\n",
      "A00054923003_events.csv\n",
      "A00054923004_events.csv\n",
      "A00054923005_events.csv\n",
      "A00054923006_events.csv\n",
      "A00054923007_events.csv\n",
      "A00054923008_events.csv\n",
      "A00054923009_events.csv\n",
      "A00054930001_events.csv\n",
      "A00054930002_events.csv\n",
      "A00054930003_events.csv\n",
      "A00054930004_events.csv\n",
      "A00054930005_events.csv\n",
      "A00054930006_events.csv\n",
      "A00054930007_events.csv\n",
      "A00054930008_events.csv\n",
      "A00054930009_events.csv\n",
      "A00055024001_events.csv\n",
      "A00055024002_events.csv\n",
      "A00055024003_events.csv\n",
      "A00055024004_events.csv\n",
      "A00055024005_events.csv\n",
      "A00055024006_events.csv\n",
      "A00055024007_events.csv\n",
      "A00055024008_events.csv\n",
      "A00055024009_events.csv\n",
      "A00055055001_events.csv\n",
      "A00055055002_events.csv\n",
      "A00055055003_events.csv\n",
      "A00055055004_events.csv\n",
      "A00055055005_events.csv\n",
      "A00055055006_events.csv\n",
      "A00055055007_events.csv\n",
      "A00055055008_events.csv\n"
     ]
    },
    {
     "name": "stdout",
     "output_type": "stream",
     "text": [
      "A00055055009_events.csv\n",
      "A00055065001_events.csv\n",
      "A00055065002_events.csv\n",
      "A00055065003_events.csv\n",
      "A00055065004_events.csv\n",
      "A00055065005_events.csv\n",
      "A00055065006_events.csv\n",
      "A00055065007_events.csv\n",
      "A00055065008_events.csv\n",
      "A00055065009_events.csv\n",
      "A00055077001_events.csv\n",
      "A00055077002_events.csv\n",
      "A00055077003_events.csv\n",
      "A00055077004_events.csv\n",
      "A00055077005_events.csv\n",
      "A00055077006_events.csv\n",
      "A00055077007_events.csv\n",
      "A00055077008_events.csv\n",
      "A00055077009_events.csv\n",
      "A00055085001_events.csv\n",
      "A00055085002_events.csv\n",
      "A00055085003_events.csv\n",
      "A00055085004_events.csv\n",
      "A00055085005_events.csv\n",
      "A00055085006_events.csv\n",
      "A00055085007_events.csv\n",
      "A00055085008_events.csv\n",
      "A00055085009_events.csv\n",
      "A00055103001_events.csv\n",
      "A00055103002_events.csv\n",
      "A00055103003_events.csv\n",
      "A00055103004_events.csv\n",
      "A00055103005_events.csv\n",
      "A00055103006_events.csv\n",
      "A00055103007_events.csv\n",
      "A00055103008_events.csv\n",
      "A00055103009_events.csv\n",
      "A00055296001_events.csv\n",
      "A00055296002_events.csv\n",
      "A00055296003_events.csv\n",
      "A00055296004_events.csv\n",
      "A00055296005_events.csv\n",
      "A00055296006_events.csv\n",
      "A00055296007_events.csv\n",
      "A00055296008_events.csv\n",
      "A00055296009_events.csv\n",
      "A00055392001_events.csv\n",
      "A00055392002_events.csv\n",
      "A00055392003_events.csv\n",
      "A00055392004_events.csv\n",
      "A00055392005_events.csv\n",
      "A00055392006_events.csv\n",
      "A00055392007_events.csv\n",
      "A00055392008_events.csv\n",
      "A00055392009_events.csv\n",
      "A00055424001_events.csv\n",
      "A00055424002_events.csv\n",
      "A00055424003_events.csv\n",
      "A00055424004_events.csv\n",
      "A00055424005_events.csv\n",
      "A00055424006_events.csv\n",
      "A00055424007_events.csv\n",
      "A00055424008_events.csv\n",
      "A00055424009_events.csv\n",
      "A00055429001_events.csv\n",
      "A00055429002_events.csv\n",
      "A00055429003_events.csv\n",
      "A00055429004_events.csv\n",
      "A00055429005_events.csv\n",
      "A00055429006_events.csv\n",
      "A00055429007_events.csv\n",
      "A00055429008_events.csv\n",
      "A00055429009_events.csv\n",
      "A00055486001_events.csv\n",
      "A00055486002_events.csv\n",
      "A00055486003_events.csv\n",
      "A00055486004_events.csv\n",
      "A00055486005_events.csv\n",
      "A00055486006_events.csv\n",
      "A00055486007_events.csv\n",
      "A00055486008_events.csv\n",
      "A00055486009_events.csv\n",
      "A00055613001_events.csv\n",
      "A00055613002_events.csv\n",
      "A00055613003_events.csv\n",
      "A00055613004_events.csv\n",
      "A00055613005_events.csv\n",
      "A00055613006_events.csv\n",
      "A00055613007_events.csv\n",
      "A00055613008_events.csv\n",
      "A00055613009_events.csv\n",
      "A00055649001_events.csv\n",
      "A00055649002_events.csv\n",
      "A00055649003_events.csv\n",
      "A00055649004_events.csv\n",
      "A00055649005_events.csv\n",
      "A00055649006_events.csv\n",
      "A00055649007_events.csv\n",
      "A00055649008_events.csv\n",
      "A00055649009_events.csv\n",
      "A00055662001_events.csv\n",
      "A00055662002_events.csv\n",
      "A00055662003_events.csv\n",
      "A00055662004_events.csv\n",
      "A00055662005_events.csv\n",
      "A00055662006_events.csv\n",
      "A00055662007_events.csv\n",
      "A00055662008_events.csv\n",
      "A00055662009_events.csv\n",
      "A00055682001_events.csv\n",
      "A00055682002_events.csv\n",
      "A00055682003_events.csv\n",
      "A00055682004_events.csv\n",
      "A00055682005_events.csv\n",
      "A00055682006_events.csv\n",
      "A00055682007_events.csv\n",
      "A00055682008_events.csv\n",
      "A00055682009_events.csv\n",
      "A00055731001_events.csv\n",
      "A00055731002_events.csv\n",
      "A00055731003_events.csv\n",
      "A00055731004_events.csv\n",
      "A00055731005_events.csv\n",
      "A00055731006_events.csv\n",
      "A00055731007_events.csv\n",
      "A00055731008_events.csv\n",
      "A00055731009_events.csv\n",
      "A00055745001_events.csv\n",
      "A00055745002_events.csv\n",
      "A00055745003_events.csv\n",
      "A00055745004_events.csv\n",
      "A00055745005_events.csv\n",
      "A00055745006_events.csv\n",
      "A00055745007_events.csv\n",
      "A00055745008_events.csv\n",
      "A00055745009_events.csv\n",
      "A00055754001_events.csv\n",
      "A00055754002_events.csv\n",
      "A00055754003_events.csv\n",
      "A00055754004_events.csv\n",
      "A00055754005_events.csv\n",
      "A00055754006_events.csv\n",
      "A00055837001_events.csv\n",
      "A00055837002_events.csv\n",
      "A00055837003_events.csv\n",
      "A00055837004_events.csv\n",
      "A00055837005_events.csv\n",
      "A00055837006_events.csv\n",
      "A00055837007_events.csv\n",
      "A00055837008_events.csv\n",
      "A00055837009_events.csv\n",
      "A00055865001_events.csv\n",
      "A00055865002_events.csv\n",
      "A00055865003_events.csv\n",
      "A00055865004_events.csv\n",
      "A00055865005_events.csv\n",
      "A00055865006_events.csv\n",
      "A00055865007_events.csv\n",
      "A00055865008_events.csv\n",
      "A00055865009_events.csv\n",
      "A00055893001_events.csv\n",
      "A00055893002_events.csv\n",
      "A00055893003_events.csv\n",
      "A00055893004_events.csv\n",
      "A00055893005_events.csv\n",
      "A00055893006_events.csv\n",
      "A00055893007_events.csv\n",
      "A00055893008_events.csv\n",
      "A00055893009_events.csv\n",
      "A00055910001_events.csv\n",
      "A00055910002_events.csv\n",
      "A00055910003_events.csv\n",
      "A00055910004_events.csv\n",
      "A00055910005_events.csv\n",
      "A00055910006_events.csv\n",
      "A00055910007_events.csv\n",
      "A00055910008_events.csv\n",
      "A00055910009_events.csv\n",
      "A00055956001_events.csv\n",
      "A00055956002_events.csv\n",
      "A00055956003_events.csv\n",
      "A00055956004_events.csv\n",
      "A00055956005_events.csv\n",
      "A00055956006_events.csv\n",
      "A00055956007_events.csv\n",
      "A00055956008_events.csv\n",
      "A00055956009_events.csv\n",
      "A00056002001_events.csv\n",
      "A00056002002_events.csv\n",
      "A00056002003_events.csv\n",
      "A00056002004_events.csv\n",
      "A00056002005_events.csv\n",
      "A00056002006_events.csv\n",
      "A00056002007_events.csv\n",
      "A00056002008_events.csv\n",
      "A00056002009_events.csv\n",
      "A00056054001_events.csv\n",
      "A00056054002_events.csv\n",
      "A00056054003_events.csv\n",
      "A00056054004_events.csv\n",
      "A00056054005_events.csv\n",
      "A00056054006_events.csv\n",
      "A00056054007_events.csv\n",
      "A00056054008_events.csv\n",
      "A00056054009_events.csv\n",
      "A00056116001_events.csv\n",
      "A00056116002_events.csv\n",
      "A00056116003_events.csv\n",
      "A00056116004_events.csv\n",
      "A00056116005_events.csv\n",
      "A00056116006_events.csv\n",
      "A00056116008_events.csv\n",
      "A00056116009_events.csv\n",
      "A00056166001_events.csv\n",
      "A00056166002_events.csv\n",
      "A00056166003_events.csv\n",
      "A00056166004_events.csv\n",
      "A00056166005_events.csv\n",
      "A00056166006_events.csv\n",
      "A00056166007_events.csv\n",
      "A00056166008_events.csv\n",
      "A00056166009_events.csv\n",
      "A00056257001_events.csv\n",
      "A00056257002_events.csv\n",
      "A00056257003_events.csv\n",
      "A00056257004_events.csv\n",
      "A00056257005_events.csv\n",
      "A00056257006_events.csv\n",
      "A00056257007_events.csv\n",
      "A00056257008_events.csv\n",
      "A00056257009_events.csv\n",
      "A00056604001_events.csv\n",
      "A00056604002_events.csv\n",
      "A00056604003_events.csv\n",
      "A00056604004_events.csv\n",
      "A00056604005_events.csv\n",
      "A00056604006_events.csv\n",
      "A00056604007_events.csv\n",
      "A00056604008_events.csv\n",
      "A00056604009_events.csv\n",
      "A00056693001_events.csv\n",
      "A00056693002_events.csv\n",
      "A00056693003_events.csv\n",
      "A00056693004_events.csv\n",
      "A00056693005_events.csv\n",
      "A00056693006_events.csv\n",
      "A00056693007_events.csv\n",
      "A00056693008_events.csv\n",
      "A00056693009_events.csv\n",
      "A00056913001_events.csv\n",
      "A00056913002_events.csv\n",
      "A00056913003_events.csv\n",
      "A00056913004_events.csv\n",
      "A00056913005_events.csv\n",
      "A00056913006_events.csv\n",
      "A00056913007_events.csv\n",
      "A00056913008_events.csv\n",
      "A00056913009_events.csv\n",
      "A00058596001_events.csv\n",
      "A00058596002_events.csv\n",
      "A00058596003_events.csv\n",
      "A00058596004_events.csv\n",
      "A00058596005_events.csv\n",
      "A00058775001_events.csv\n",
      "A00058775002_events.csv\n",
      "A00058775003_events.csv\n",
      "A00058775004_events.csv\n",
      "A00058775005_events.csv\n",
      "A00058775006_events.csv\n",
      "A00058775007_events.csv\n",
      "A00058775008_events.csv\n",
      "A00058775009_events.csv\n",
      "A00059063001_events.csv\n",
      "A00059063002_events.csv\n",
      "A00059063003_events.csv\n",
      "A00059063004_events.csv\n",
      "A00059063005_events.csv\n",
      "A00059063006_events.csv\n",
      "A00059063007_events.csv\n",
      "A00059063008_events.csv\n",
      "A00059063009_events.csv\n"
     ]
    }
   ],
   "source": [
    "all_sub_events={}\n",
    "rep_subs={}\n",
    "for f in os.listdir(ROOT):\n",
    "    if f=='channel_locs.txt' or f=='subs_without_EEG' or f=='EEG paradigm info Misc_Readme' or f=='subs_w_2_RS_EEG':\n",
    "        print('nothin')\n",
    "    else:\n",
    "        thisfpath=ROOT+f+'/EEG/raw/csv_format/'\n",
    "        for raw_dat in os.listdir(thisfpath):\n",
    "            \n",
    "            #print(thisfpath)\n",
    "            pattern='%s00*_events.csv' %f\n",
    "            pattern2='%s 00*_events.csv' %f\n",
    "            if (fnmatch.fnmatch(raw_dat, pattern)) or (fnmatch.fnmatch(raw_dat, pattern2)):\n",
    "                print(raw_dat)\n",
    "                thisTrigfile=pd.read_csv(thisfpath+raw_dat)\n",
    "                \n",
    "                not_RS=0\n",
    "                ev_ar=[]\n",
    "                for n in range(len(thisTrigfile['type'])):\n",
    "                    trig=thisTrigfile['type'][n]\n",
    "                    time_stamp=thisTrigfile['latency'][n]\n",
    "                    if trig != 'type':\n",
    "                        if int(trig) not in [90,20,30]:\n",
    "                            not_RS=1\n",
    "                        else:\n",
    "                            ev_ar.append([int(trig), 0, int(time_stamp)])\n",
    "                if not_RS==0 and (f not in all_sub_events.keys()):\n",
    "                    all_sub_events[f]=ev_ar\n",
    "                elif not_RS==0 and (f in all_sub_events.keys()):\n",
    "                    print('AHHHHHHHHHHHHHHHH   '+f)\n",
    "                    rep_subs[f]=ev_ar"
   ]
  },
  {
   "cell_type": "code",
   "execution_count": 68,
   "metadata": {},
   "outputs": [],
   "source": [
    "#all_sub_events"
   ]
  },
  {
   "cell_type": "code",
   "execution_count": 69,
   "metadata": {},
   "outputs": [],
   "source": [
    "#for key in rep_subs.keys():\n",
    " #   print(key)"
   ]
  },
  {
   "cell_type": "code",
   "execution_count": 70,
   "metadata": {},
   "outputs": [
    {
     "name": "stdout",
     "output_type": "stream",
     "text": [
      "channel_locs.txt\n",
      "subs_without_EEG\n",
      "EEG paradigm info Misc_Readme\n",
      "subs_w_2_RS_EEG\n"
     ]
    }
   ],
   "source": [
    "missing_RS=[]\n",
    "for k in os.listdir(ROOT):\n",
    "    if k not in all_sub_events.keys():\n",
    "        print(k)\n",
    "        if k[0]=='A':\n",
    "            missing_RS.append(k)"
   ]
  },
  {
   "cell_type": "code",
   "execution_count": 71,
   "metadata": {},
   "outputs": [
    {
     "data": {
      "text/plain": [
       "[]"
      ]
     },
     "execution_count": 71,
     "metadata": {},
     "output_type": "execute_result"
    }
   ],
   "source": [
    "missing_RS"
   ]
  },
  {
   "cell_type": "code",
   "execution_count": 73,
   "metadata": {},
   "outputs": [],
   "source": [
    "ex=ROOT+'A00063117/EEG/raw/csv_format/A00063117 009_events.csv'\n",
    "df=pd.read_csv(ex)"
   ]
  },
  {
   "cell_type": "code",
   "execution_count": 76,
   "metadata": {},
   "outputs": [
    {
     "data": {
      "text/plain": [
       "'A00063117 009'"
      ]
     },
     "execution_count": 76,
     "metadata": {},
     "output_type": "execute_result"
    }
   ],
   "source": [
    "#df\n",
    "naem='A00063117 009_events.csv'\n",
    "naem.split('_')[0]"
   ]
  },
  {
   "cell_type": "code",
   "execution_count": null,
   "metadata": {},
   "outputs": [],
   "source": [
    "#not_RS=0\n",
    "#ev_ar=[]\n",
    "#for n in range(len(df['type'])):\n",
    " #   trig=df['type'][n]\n",
    "  #  time_stamp=df['latency'][n]\n",
    "   # if trig != 'type':\n",
    "    #    if int(trig) not in [90,20,30]:\n",
    "     #       not_RS=1\n",
    "      #  else:\n",
    "       #     ev_ar.append([int(trig), 0, int(time_stamp)])        \""
   ]
  },
  {
   "cell_type": "code",
   "execution_count": null,
   "metadata": {},
   "outputs": [],
   "source": [
    "#ev_ar"
   ]
  },
  {
   "cell_type": "code",
   "execution_count": null,
   "metadata": {
    "scrolled": false
   },
   "outputs": [],
   "source": [
    "raw_file=ROOT+'A00053440/EEG/raw/'#raw_format/A00053440_part2005' #A00051955/EEG/raw/raw_format/A00051955001.raw\"#\n",
    "raw=mne.io.read_raw_egi(raw_file+'.raw',montage=mne.channels.read_montage(kind='GSN-HydroCel-129'),preload=True, verbose=True)\n",
    "#raw2=mne.io.read_raw_egi(raw_file,montage=mne.channels.read_montage(kind='GSN-HydroCel-128'),preload=True, verbose=True)"
   ]
  },
  {
   "cell_type": "code",
   "execution_count": null,
   "metadata": {},
   "outputs": [],
   "source": [
    "events = mne.find_events(raw)"
   ]
  },
  {
   "cell_type": "code",
   "execution_count": null,
   "metadata": {},
   "outputs": [],
   "source": [
    "#raw.plot_psd()\n",
    "events"
   ]
  },
  {
   "cell_type": "code",
   "execution_count": null,
   "metadata": {},
   "outputs": [],
   "source": [
    "#raw.info['chs'][44:129]\n",
    "dataChannels = ['E2','E3','E4','E5','E6','E7','E9','E10','E11','E12',\n",
    "    'E13','E15','E16','E18','E19','E20','E22','E23','E24','E26',\n",
    "    'E27','E28','E29','E30','E31','E33','E34','E35','E36','E37',\n",
    "    'E39','E40','E41','E42','E45','E46','E47','E50','E51','E52','E53','E54','E55','E58','E59','E60','E61',\n",
    "    'E62','E65','E66','E67','E70','E71','E72','E75','E76','E77','E78','E79','E80','E83','E84',\n",
    "    'E85','E86','E87','E90','E91','E92','E93','E96','E97','E98','E101','E102','E103','E104',\n",
    "    'E105','E106','E108','E109','E110','E111','E112','E115','E116','E117','E118','E122','E123','E124']\n",
    "#this is the list of 'real' channels that Justin sent, all others are external electrodes\n",
    "extChannels = [e['ch_name'] for e in raw.info['chs'] if ((e['ch_name'] not in dataChannels) and (e in raw.info['chs'][:129]))]\n",
    "extChannels\n",
    "randChannels=[e for e in raw.info['ch_names'] if ((e not in dataChannels) and (e not in extChannels))]\n",
    "#stimChannels=raw.get_data[raw.info['ch_names'].index('STI 014')]\n",
    "raw_stimCH=raw.copy() #making a copy that retains its stim channels for finding events later\n",
    "#raw=raw.drop_channels(randChannels)\n",
    "ch_type_dict={}\n",
    "for c in extChannels:\n",
    "    if c not in ['E21','E14','E25','E17','E8']:\n",
    "        ch_type_dict[c]='ecg'\n",
    "    else:\n",
    "        ch_type_dict[c]='eog'\n",
    "raw.set_channel_types(ch_type_dict)\n",
    "#raw.info['bads']=['E2']"
   ]
  },
  {
   "cell_type": "code",
   "execution_count": null,
   "metadata": {},
   "outputs": [],
   "source": [
    "#raw.save(raw_file+'raw.fif')#,picks=mne.pick_channels(ch_names=dataChannels+extChannels+['STI 014'],include=[]))"
   ]
  },
  {
   "cell_type": "code",
   "execution_count": null,
   "metadata": {},
   "outputs": [],
   "source": [
    "#raw2=mne.io.read_raw_fif(raw_file+'raw.fif',preload=True, verbose=True)"
   ]
  },
  {
   "cell_type": "code",
   "execution_count": null,
   "metadata": {
    "scrolled": false
   },
   "outputs": [],
   "source": [
    "#raw.plo\n",
    "#raw2.info['ch_names']\n"
   ]
  },
  {
   "cell_type": "code",
   "execution_count": null,
   "metadata": {},
   "outputs": [],
   "source": [
    "data,times=raw.get_data([-1],return_times=True)\n",
    "data.shape"
   ]
  },
  {
   "cell_type": "code",
   "execution_count": null,
   "metadata": {},
   "outputs": [],
   "source": [
    "events = mne.find_events(raw)#_stimCH, verbose=True)\n",
    "print(events)\n",
    "#raw.info['events']=events # i think that 1=EO and 2=EC"
   ]
  },
  {
   "cell_type": "code",
   "execution_count": null,
   "metadata": {},
   "outputs": [],
   "source": [
    "print(sum(sum(data !=0)))\n",
    "data=np.ndarray.flatten(data)\n",
    "trigs=np.ndarray.tolist(np.ndarray.flatten(events))[0::3]"
   ]
  },
  {
   "cell_type": "code",
   "execution_count": null,
   "metadata": {},
   "outputs": [],
   "source": [
    "new_events=[]\n",
    "for index in range(len(data)):\n",
    "    if index<trigs[0] or index>trigs[-1]: #the real data hasn't even started yet, so ignore it\n",
    "        continue\n",
    "    elif index in trigs[:-1]:\n",
    "        thisEv=index\n",
    "        nextEv=trigs[trigs.index(index)+1]\n",
    "        print(thisEv)\n",
    "        print(nextEv)\n",
    "        if np.around([nextEv-thisEv],decimals=-1)==10000:\n",
    "            trig=5 # eyes open\n",
    "        elif np.around([nextEv-thisEv],decimals=-1)==20000:\n",
    "            trig=7 # eyes closed\n",
    "        #thisSection=raw2.times[thisEv:nextEv]\n",
    "        thisSectionInds=[i for i in range(thisEv,nextEv+1)]\n",
    "        #print(thisSectionInds)\n",
    "        twoSecs=thisSectionInds[1500::1000]\n",
    "        print(twoSecs)\n",
    "        for timeInd in twoSecs:\n",
    "            data[timeInd]=trig\n",
    "            new_events.append([timeInd, 0, trig])\n",
    "        \n",
    "        "
   ]
  },
  {
   "cell_type": "code",
   "execution_count": null,
   "metadata": {},
   "outputs": [],
   "source": [
    "#print(sum(sum(data !=0)))\n",
    "new_events\n",
    "raw.add_events(np.asarray(new_events),'STI 014',replace=True)"
   ]
  },
  {
   "cell_type": "code",
   "execution_count": null,
   "metadata": {},
   "outputs": [],
   "source": [
    "new_events"
   ]
  },
  {
   "cell_type": "raw",
   "metadata": {},
   "source": []
  },
  {
   "cell_type": "code",
   "execution_count": null,
   "metadata": {},
   "outputs": [],
   "source": [
    "events = mne.find_events(raw)#_stimCH, verbose=True)\n",
    "print(events)"
   ]
  },
  {
   "cell_type": "code",
   "execution_count": null,
   "metadata": {},
   "outputs": [],
   "source": [
    "eyes_closed=mne.Epochs(raw,events,event_id={'twoSec':7},tmin=0,tmax=2,reject_by_annotation=False)"
   ]
  },
  {
   "cell_type": "code",
   "execution_count": null,
   "metadata": {},
   "outputs": [],
   "source": [
    "str(np.shape(eyes_closed.get_data())[0])\n"
   ]
  },
  {
   "cell_type": "code",
   "execution_count": null,
   "metadata": {},
   "outputs": [],
   "source": [
    "eyes_open=mne.Epochs(raw,events,event_id={'twoSec':5},tmin=0,tmax=2,reject_by_annotation=False)"
   ]
  },
  {
   "cell_type": "code",
   "execution_count": null,
   "metadata": {},
   "outputs": [],
   "source": [
    "eyes_closed.get_data()"
   ]
  },
  {
   "cell_type": "code",
   "execution_count": null,
   "metadata": {},
   "outputs": [],
   "source": [
    "eyes_closed.plot_topo_image()"
   ]
  },
  {
   "cell_type": "code",
   "execution_count": null,
   "metadata": {},
   "outputs": [],
   "source": [
    "eyes_open.get_data()"
   ]
  },
  {
   "cell_type": "markdown",
   "metadata": {},
   "source": [
    "# Cutting and concatenating raw file into eyes open/eyes closed conditions"
   ]
  },
  {
   "cell_type": "code",
   "execution_count": null,
   "metadata": {},
   "outputs": [],
   "source": [
    "events = mne.find_events(raw)#_stimCH, verbose=True)\n",
    "print(events)"
   ]
  },
  {
   "cell_type": "code",
   "execution_count": null,
   "metadata": {},
   "outputs": [],
   "source": [
    "print(raw.times[-1])\n",
    "print(len(raw.times))\n",
    "print(raw.times[168248])"
   ]
  },
  {
   "cell_type": "code",
   "execution_count": null,
   "metadata": {},
   "outputs": [],
   "source": [
    "a=raw.times[25981]\n",
    "b=raw.times[45980]\n",
    "print(a)\n",
    "print(b)\n",
    "print(b-a)\n",
    "print(np.ceil(b-a))"
   ]
  },
  {
   "cell_type": "code",
   "execution_count": null,
   "metadata": {},
   "outputs": [],
   "source": [
    "np.around(b,decimals=-1)\n"
   ]
  },
  {
   "cell_type": "code",
   "execution_count": null,
   "metadata": {},
   "outputs": [],
   "source": [
    "int(np.around([b-a],decimals=-1))"
   ]
  },
  {
   "cell_type": "code",
   "execution_count": null,
   "metadata": {},
   "outputs": [],
   "source": [
    "####### Indexing ##########\n",
    "\n",
    "firstEv=events[0]\n",
    "secondEv=events[1]\n",
    "diff=np.around(raw.times[secondEv[0]]-raw.times[firstEv[0]],decimals=-1) #difference in seconds (rounded to nearest 10th) bween 1st and 2nd event\n",
    "if diff==20: #if the first event is 20 seconds long its eyes open\n",
    "    if firstEv[2]==1: # and we want the trigger code (1 or 2) to translate to EC or EO accurately\n",
    "        task1='EO'\n",
    "        task2='EC'\n",
    "    else:\n",
    "        task1='EC'\n",
    "        task2='EO'\n",
    "elif diff==40: #if the first event is 40 sec long its eyes closed\n",
    "    if firstEv[2]==2:\n",
    "        task2='EC'\n",
    "        task1='EO'\n",
    "    else:\n",
    "        task1='EC'\n",
    "        task2='EO'\n",
    "else:\n",
    "    print('\\n\\n\\n\\n ERROR!!!!!!!!!!! \\n the timing of the eyes closed/eyes open is not 20/40 seconds. Please skip this subject and look in detail at events')\n",
    "  "
   ]
  },
  {
   "cell_type": "code",
   "execution_count": null,
   "metadata": {},
   "outputs": [],
   "source": [
    "diff\n"
   ]
  },
  {
   "cell_type": "code",
   "execution_count": null,
   "metadata": {},
   "outputs": [],
   "source": [
    "events"
   ]
  },
  {
   "cell_type": "code",
   "execution_count": null,
   "metadata": {},
   "outputs": [],
   "source": [
    "eyes_open_idx=[]\n",
    "eyes_closed_idx=[]\n",
    "for n in range(len(events)):\n",
    "    event=events[n]\n",
    "    startTime=event[0]\n",
    "    \n",
    "    if n==(len(events)-1): #if its the last event it might not last all 20 or 40 seconds, so give it whatever data there is\n",
    "        endTime=len(raw.times)-1 #ie, the index of the last element of raw.times\n",
    "    else: # otherwise the end time of this event is the start time of the next one\n",
    "        endTime=events[n+1][0]-1\n",
    "    \n",
    "    if (event[2]==1 and task1=='EO') or (event[2]==2 and task2=='EO'): #assign the event to the correct trigger code\n",
    "        eyes_open_idx.append((startTime,endTime))\n",
    "    elif (event[2]==2 and task2=='EC')or (event[2]==1 and task1=='EC'):\n",
    "        eyes_closed_idx.append((startTime,endTime))\n",
    "    else:\n",
    "        print('ERROR \\n\\n\\n trigger codes are not only 1 and 2! see events for details')\n",
    "\n",
    "print(eyes_open_idx)\n",
    "print(eyes_closed_idx)"
   ]
  },
  {
   "cell_type": "code",
   "execution_count": null,
   "metadata": {},
   "outputs": [],
   "source": [
    "#grabbing out slices of eyes open to later concatenate together, minus first 3 secs of data\n",
    "sec2concat=[]\n",
    "for idx in eyes_open_idx: #excluding last eyes open event because it doesn't seem to have lasted the whole 20secs\n",
    "    startTime=raw.times[idx[0]]\n",
    "    endTime=raw.times[idx[1]]\n",
    "    eoEvent=raw.copy().crop((startTime+3),(endTime))\n",
    "    sec2concat.append(eoEvent)\n",
    "\n",
    "sec2concat[0].append(sec2concat[1:])\n",
    "eyes_open_raw=sec2concat[0]\n",
    "print(eyes_open_raw)\n",
    "\n",
    "#grabbing out slices of eyes closed to later concatenate together, minus first 3 secs of data\n",
    "sec2concat=[]\n",
    "for idx in eyes_closed_idx: \n",
    "    startTime=raw.times[idx[0]]\n",
    "    endTime=raw.times[idx[1]]\n",
    "    ecEvent=raw.copy().crop((startTime+3),(endTime))\n",
    "    sec2concat.append(ecEvent)\n",
    "\n",
    "sec2concat[0].append(sec2concat[1:])\n",
    "eyes_closed_raw=sec2concat[0]\n",
    "print(eyes_closed_raw)\n",
    "\n",
    "#eyes_open=mne.Epochs(raw_fiir,events=events,event_id={'eyes open':1},tmin=0,tmax=20,baseline=None,decim=2,picks=our_picks)\n",
    "# no baseline correction here\n",
    "# downsampled by factor of 2\n",
    "# I cut out the first couple of seconds of data for if the event trigger is being sent when they are hearing instructions?\n",
    "#eyes_closed=mne.Epochs(raw_fiir,events=events,event_id={'eyes closed':2},tmin=3,tmax=40,decim=2,baseline=None,picks=our_picks)\n",
    "#eyes_closed.plot() #is this really the eyes closed data?? Seems very noisy"
   ]
  },
  {
   "cell_type": "code",
   "execution_count": null,
   "metadata": {},
   "outputs": [],
   "source": [
    "#eyes_closed_raw.plot_psd(fmax=45,picks=mne.pick_types(raw_fi.info,meg=False,eeg=True,eog=False,exclude=['E129'])) #sanity check\n",
    "#eyes_closed.plot()"
   ]
  },
  {
   "cell_type": "markdown",
   "metadata": {},
   "source": [
    "# Applying high and low pass filters (1 and 50)"
   ]
  },
  {
   "cell_type": "code",
   "execution_count": null,
   "metadata": {
    "scrolled": true
   },
   "outputs": [],
   "source": [
    "eyes_closed.load_data()\n",
    "EC_f=eyes_closed.copy()\n",
    "EC_f.filter(1,50)\n",
    "    #can choose different methods of filtering. here it's using the default 'overlap-add' FIR filtering, can\n",
    "        # also use IIR forward/backward filtering\n",
    "EC_f.plot(n_channels=129)#n_channels=129,group_by='original')\n",
    "\n",
    "eyes_open.load_data()\n",
    "EO_f=eyes_open.copy()\n",
    "EO_f.filter(1,50)\n",
    "EO_f.plot(n_channels=129)#n_channels=129,group_by='original')"
   ]
  },
  {
   "cell_type": "markdown",
   "metadata": {},
   "source": [
    "# Select bad electrodes from \"real\" data to interpolate"
   ]
  },
  {
   "cell_type": "code",
   "execution_count": null,
   "metadata": {
    "scrolled": true
   },
   "outputs": [],
   "source": [
    "EC_fi=EC_f.copy()\n",
    "EC_fi.plot(block=True) #pauses script while i visually inspect data and select which channels to delete\n",
    "print(EC_fi.info['bads'])\n",
    "EC_fi=EC_fi.interpolate_bads()\n",
    "\n",
    "EO_fi=EO_f.copy()\n",
    "EO_fi.plot(block=True) \n",
    "print(EO_fi.info['bads'])\n",
    "EO_fi=EO_fi.interpolate_bads()\n",
    "\n",
    "# # https://github.com/mne-tools/mne-python/blob/master/mne/preprocessing/bads.py automatic detection of bads \n",
    "   # uses z-scoring"
   ]
  },
  {
   "cell_type": "markdown",
   "metadata": {},
   "source": [
    "# Importing Montage"
   ]
  },
  {
   "cell_type": "code",
   "execution_count": null,
   "metadata": {
    "scrolled": false
   },
   "outputs": [],
   "source": [
    "layout=mne.channels.read_montage(kind='GSN-HydroCel-129')\n",
    "layout.pos.shape\n",
    "#layout.plot(kind='3d')"
   ]
  },
  {
   "cell_type": "code",
   "execution_count": null,
   "metadata": {
    "scrolled": true
   },
   "outputs": [],
   "source": [
    "our_picks=mne.pick_types(EC_fi.info,meg=False,eeg=True,eog=False)\n",
    "EC_fi=EC_fi.set_montage(layout)"
   ]
  },
  {
   "cell_type": "markdown",
   "metadata": {},
   "source": [
    "# Re-referencing using global avg referencing"
   ]
  },
  {
   "cell_type": "code",
   "execution_count": null,
   "metadata": {
    "scrolled": true
   },
   "outputs": [],
   "source": [
    "# SHOULD THIS COME BEFORE ICA? see manuscript blurb\n",
    "## ?? should we use all scalp electrodes too? not truly global until use all electrodes\n",
    "EC_fir, r2 = mne.set_eeg_reference(EC_fi,ref_channels=dataChannels+extChannels) \n",
    "EC_fir.plot(n_channels=129)\n",
    "EO_fir, r2 = mne.set_eeg_reference(EO_fi,ref_channels=dataChannels+extChannels) \n",
    "EO_fir.plot(n_channels=129)"
   ]
  },
  {
   "cell_type": "code",
   "execution_count": null,
   "metadata": {
    "scrolled": true
   },
   "outputs": [],
   "source": [
    "EC_fi.info"
   ]
  },
  {
   "cell_type": "markdown",
   "metadata": {},
   "source": [
    "# ICA"
   ]
  },
  {
   "cell_type": "code",
   "execution_count": null,
   "metadata": {
    "scrolled": true
   },
   "outputs": [],
   "source": [
    "## fitting IC's\n",
    "\n",
    "datasets=[EC_fir,EO_fir]\n",
    "ica_data={}\n",
    "\n",
    "for data in datasets:\n",
    "    ica = []\n",
    "    ica = ICA(n_components=90,random_state=25)\n",
    "    ica.fit(data,picks=our_picks)#mne.pick_channels(ch_names=dataChannels+extChannels,include=[])) #keeps in externals\n",
    "    #ica.info\n",
    "\n",
    "    eog_ic=[]\n",
    "    for ch in ['E25','E17','E8']: #insert EOG channels\n",
    "        #ecg_epochs=create_ecg_epochs(data,ch_name=ch) # ?\n",
    "        eog_idx,scores=ica.find_bads_eog(data,ch_name=ch)\n",
    "        eog_ic.append(eog_idx)\n",
    "\n",
    "    print(eog_ic)\n",
    "\n",
    "    ecg_ic=[]\n",
    "    for ch in []: # insert ECG channels\n",
    "        ecg_idx,scores=ica.find_bads_ecg(data,ch_name=ch)\n",
    "        ecg_ic.append(ecg_idx)\n",
    "\n",
    "    print(ecg_ic)\n",
    "\n",
    "    reject_ic=[]\n",
    "    for eog_inds in eog_ic:\n",
    "        for ele in eog_inds:\n",
    "            if ele not in reject_ic:\n",
    "                reject_ic.append(ele)\n",
    "    for ecg_inds in ecg_ic:\n",
    "        for ele in ecg_inds:\n",
    "            if el not in reject_ic:\n",
    "                reject_ic.append(el)\n",
    "    \n",
    "    print(reject_ic)                \n",
    "\n",
    "    ica.exclude=[]\n",
    "    ica.exclude.extend(reject_ic) #which IC's to exclude\n",
    "\n",
    "    #ica.exclude #excluding the eog/ecg ic's\n",
    "    if data==EC_fir:\n",
    "        name='EC'\n",
    "    else:\n",
    "        name='EO'\n",
    "    ica_data[name]=(ica,data)"
   ]
  },
  {
   "cell_type": "code",
   "execution_count": null,
   "metadata": {},
   "outputs": [],
   "source": [
    "for icDat in ica_data.keys():\n",
    "    ica=ica_data[icDat][0]\n",
    "    data=ica_data[icDat][1]\n",
    "    ica.plot_components(picks=range(90),ch_type=None,inst=data) #needs the channel locations\n",
    "\n",
    "### ask for user input here ###\n",
    "    bad_ics=[] #whichever ic's are identified by visual inspection\n",
    "    #eogecg_ics=[] # enter which ic's identified by the auto functions you want to actually keep, if any\n",
    "    ica.exclude.extend(bad_ics)\n",
    "    #ica.exclude.delete(eogecg_ics) ???\n",
    "    print(ica.exclude)\n",
    "    ica_data[icDat]=(ica,data)"
   ]
  },
  {
   "cell_type": "code",
   "execution_count": null,
   "metadata": {},
   "outputs": [],
   "source": [
    "EC_firi=EC_fir.copy()\n",
    "print(ica_data['EC'][0].exclude)\n",
    "EC_firi=(ica_data['EC'][0]).apply(EC_firi,exclude=ica_data['EC'][0].exclude)\n",
    "EO_firi=EO_fir.copy()\n",
    "EO_firi=ica_data['EO'][0].apply(EO_firi)\n",
    "#raw_fii.plot()"
   ]
  },
  {
   "cell_type": "code",
   "execution_count": null,
   "metadata": {
    "scrolled": false
   },
   "outputs": [],
   "source": [
    "ica_data['EC'][0].plot_overlay(EC_fir.average(),ica_data['EC'][0].exclude)\n",
    "#print(ica_data['EC'][0])\n",
    "print(EC_fir.get_data())\n",
    "print(EC_firi.get_data())\n",
    "ica_data['EO'][0].plot_overlay(EO_fir.average(),ica_data['EO'][0].exclude)"
   ]
  },
  {
   "cell_type": "code",
   "execution_count": null,
   "metadata": {},
   "outputs": [],
   "source": [
    "EC_ica=ica_data['EC'][0]\n",
    "EC_ica.plot_properties(EC_fir,picks=range(6),plot_std=5)"
   ]
  },
  {
   "cell_type": "code",
   "execution_count": null,
   "metadata": {},
   "outputs": [],
   "source": [
    "#.save"
   ]
  },
  {
   "cell_type": "markdown",
   "metadata": {},
   "source": [
    "# Epoching into 2 second, non overlapping time windows"
   ]
  },
  {
   "cell_type": "code",
   "execution_count": null,
   "metadata": {},
   "outputs": [],
   "source": [
    "eyes_closed=EC_firi\n",
    "eyes_open=EO_firi\n",
    "eyes_open.info"
   ]
  },
  {
   "cell_type": "code",
   "execution_count": null,
   "metadata": {},
   "outputs": [],
   "source": [
    "#eyes_closed.save(raw_file+'-epo.fif')"
   ]
  },
  {
   "cell_type": "code",
   "execution_count": null,
   "metadata": {
    "scrolled": true
   },
   "outputs": [],
   "source": [
    "epoch_array=[]\n",
    "for t in eyes_closed.times[0::1000]: #grabbing sample # (index) of ea 2 second data point\n",
    "    epoch_array.append([int(list(eyes_closed.times).index(t)),int(0),int(7)]) \n",
    "print(epoch_array)"
   ]
  },
  {
   "cell_type": "code",
   "execution_count": null,
   "metadata": {},
   "outputs": [],
   "source": [
    "print(len(eyes_closed.times))\n",
    "#print(eyes_closed.times[0])\n",
    "#print(eyes_closed.times[1000])\n",
    "#rint(eyes_closed.times[92504])\n",
    "eyes_closed.time_as_index(eyes_closed.times)\n"
   ]
  },
  {
   "cell_type": "code",
   "execution_count": null,
   "metadata": {},
   "outputs": [],
   "source": [
    "len(epoch_array)\n",
    "#eyes_closed.get_data(start=0,stop=1000)"
   ]
  },
  {
   "cell_type": "code",
   "execution_count": null,
   "metadata": {
    "scrolled": true
   },
   "outputs": [],
   "source": [
    "#epoch_array # cutting into two second time windows\n",
    "#mne.write_events(ROOT+'test-eve.fif',np.asarray(epoch_array))"
   ]
  },
  {
   "cell_type": "code",
   "execution_count": null,
   "metadata": {},
   "outputs": [],
   "source": [
    "#a=eyes_closed.load_data()\n",
    "eyes_closed._first_samps"
   ]
  },
  {
   "cell_type": "code",
   "execution_count": null,
   "metadata": {},
   "outputs": [],
   "source": [
    "realData=mne.pick_types(raw.info,meg=False,eeg=True,eog=False,exclude=extChannels+randChannels,selection=dataChannels)"
   ]
  },
  {
   "cell_type": "code",
   "execution_count": null,
   "metadata": {
    "scrolled": false
   },
   "outputs": [],
   "source": [
    "# SHOULD I DOWNSAMPLE, REJECTION PARAMS??\n",
    "twoSec_EC_epoch=mne.Epochs(a,events=epoch_array,tmin=0,tmax=2,event_id={'twoSec':7},reject=None, flat=None, reject_by_annotation=False)#,reject={'eeg':40e-6},flat={'eeg'=?}) #have to change this so it's not blurring over the eyes closed and eyes open"
   ]
  },
  {
   "cell_type": "code",
   "execution_count": null,
   "metadata": {},
   "outputs": [],
   "source": [
    "twoSec_EC_epoch.get_data()\n"
   ]
  },
  {
   "cell_type": "code",
   "execution_count": null,
   "metadata": {},
   "outputs": [],
   "source": [
    "\n",
    "raw_data_mat = eyes_closed.get_data()\n",
    "\n",
    "first_28_epochs = raw_data_mat[:128, 0:28*1000]\n",
    "print(sum(sum(np.isnan(first_28_epochs))))\n",
    "print(sum(sum(first_28_epochs==0)))\n",
    "#np.shape(twoSec_EC_epoch.get_data())"
   ]
  },
  {
   "cell_type": "code",
   "execution_count": null,
   "metadata": {},
   "outputs": [],
   "source": [
    "twoSec_EC_epoch.get_data()"
   ]
  },
  {
   "cell_type": "code",
   "execution_count": null,
   "metadata": {},
   "outputs": [],
   "source": [
    "twoSec_EC_epoch.drop_log[:28]\n",
    "#twoSec_EC_epoch.plot_psd_topomap(cmap='interactive')"
   ]
  },
  {
   "cell_type": "code",
   "execution_count": null,
   "metadata": {
    "scrolled": true
   },
   "outputs": [],
   "source": [
    "twoSec_EC_epoch.plot()"
   ]
  },
  {
   "cell_type": "code",
   "execution_count": null,
   "metadata": {
    "scrolled": true
   },
   "outputs": [],
   "source": [
    "epoch_array_EO=[]\n",
    "for t in eyes_open.times[0::1000]: #grabbing sample # (index) of ea 2 second data point\n",
    "    epoch_array_EO.append([int(list(eyes_open.times).index(t)),int(0),int(7)])  \n",
    "eyes_open.info['events']=epoch_array_EO\n",
    "twoSec_EO_epoch=mne.Epochs(eyes_open,baseline=(None,None),events=epoch_array_EO,tmin=0,tmax=2,event_id={'twoSec':7},picks=realData,reject_by_annotation=False)#,flat=None,reject=None)#,reject={'eeg':40e-6},flat={'eeg'=?})"
   ]
  },
  {
   "cell_type": "code",
   "execution_count": null,
   "metadata": {},
   "outputs": [],
   "source": [
    "eyes_closed.times[0::1000]\n"
   ]
  },
  {
   "cell_type": "code",
   "execution_count": null,
   "metadata": {
    "scrolled": true
   },
   "outputs": [],
   "source": [
    "epoch_array_EO\n",
    "#eyes_open.get_data(start=0,stop=20)\n",
    "#copy=twoSec_EO_epoch.copy()"
   ]
  },
  {
   "cell_type": "code",
   "execution_count": null,
   "metadata": {},
   "outputs": [],
   "source": [
    "#twoSec_EO_epoch.get_data()\n",
    "#copy.drop_log[0]\n",
    "#for l in range(18):\n",
    " #   copy.drop_log.append([])\n",
    "  #  copy.drop_log.remove(['NO_DATA'])\n",
    "#len(copy.drop_log)\n"
   ]
  },
  {
   "cell_type": "code",
   "execution_count": null,
   "metadata": {
    "scrolled": true
   },
   "outputs": [],
   "source": [
    "twoSec_EO_epoch.drop_log"
   ]
  },
  {
   "cell_type": "code",
   "execution_count": null,
   "metadata": {
    "scrolled": true
   },
   "outputs": [],
   "source": [
    "twoSec_EO_epoch.plot(block=True,n_epochs=2,n_channels=15)\n",
    "#twoSec_EC_epoch.plot(block=True) # need to manually select the epochs to discard"
   ]
  },
  {
   "cell_type": "code",
   "execution_count": null,
   "metadata": {},
   "outputs": [],
   "source": [
    "#Reject bad epochs\n",
    "#twoSec_EO_epoch.drop_bad()\n",
    "#twoSec_EC_epoch.drop_bad()"
   ]
  },
  {
   "cell_type": "code",
   "execution_count": null,
   "metadata": {},
   "outputs": [],
   "source": [
    "avg_EC=twoSec_EC_epoch.average()\n",
    "avg_EC.plot()\n",
    "avg_EO=twoSec_EO_epoch.average()\n",
    "avg_EO.plot()"
   ]
  },
  {
   "cell_type": "markdown",
   "metadata": {},
   "source": [
    "# automatic selection of epochs to reject"
   ]
  },
  {
   "cell_type": "code",
   "execution_count": null,
   "metadata": {},
   "outputs": [],
   "source": [
    "reject= get_rejection_threshold(twoSec_EC_epoch)\n",
    "reject"
   ]
  },
  {
   "cell_type": "code",
   "execution_count": null,
   "metadata": {
    "scrolled": true
   },
   "outputs": [],
   "source": [
    "twoSec_EC_epoch.load_data()\n",
    "ar=AutoReject()\n",
    "ar.fit(twoSec_EC_epoch)\n",
    "ar.reject_log()"
   ]
  },
  {
   "cell_type": "code",
   "execution_count": null,
   "metadata": {},
   "outputs": [],
   "source": [
    "ECep_clean=ar.transform(twoSec_EC_epoch)\n",
    "EC_avg=ECep_clean.average()\n"
   ]
  },
  {
   "cell_type": "code",
   "execution_count": null,
   "metadata": {
    "scrolled": false
   },
   "outputs": [],
   "source": [
    "#set_matplotlib_defaults(plt)\n",
    "\n",
    "#fig, axes = plt.subplots(2, 1, figsize=(6, 6))\n",
    "\n",
    "#for ax in axes:\n",
    " #   ax.tick_params(axis='x', which='both', bottom='off', top='off')\n",
    "  #  ax.tick_params(axis='y', which='both', left='off', right='off')\n",
    "\n",
    "ylim = range(1,300)\n",
    "avg_EC.pick_types(meg=False,eeg=True,eog=False,exclude=extChannels+randChannels,selection=dataChannels)\n",
    "avg_EC.plot(exclude=[], ylim=ylim, show=False)\n",
    "#axes[0].set_title('Before autoreject')\n",
    "EC_avg.pick_types(meg=False,eeg=True,eog=False,exclude=extChannels+randChannels,selection=dataChannels)\n",
    "EC_avg.plot(exclude=[], ylim=ylim)\n",
    "#axes[1].set_title('After autoreject')\n",
    "#plt.tight_layout()"
   ]
  },
  {
   "cell_type": "code",
   "execution_count": null,
   "metadata": {},
   "outputs": [],
   "source": [
    "ar.get_reject_log(twoSec_EC_epoch).plot()\n",
    "#ar.get_reject_log(twoSec_EO_epoch).plot()"
   ]
  },
  {
   "cell_type": "code",
   "execution_count": null,
   "metadata": {
    "scrolled": false
   },
   "outputs": [],
   "source": [
    "sub='A00056054'\n",
    "twoSec_EC_epoch.save(ROOT+sub+'/EEG/preproc/'+sub+'_epoch_eyesClosed_epo.fif')\n"
   ]
  },
  {
   "cell_type": "code",
   "execution_count": null,
   "metadata": {},
   "outputs": [],
   "source": [
    "ev2=twoSec_EC_epoch.info['events']"
   ]
  },
  {
   "cell_type": "code",
   "execution_count": null,
   "metadata": {},
   "outputs": [],
   "source": [
    "ev2.get('channels')"
   ]
  },
  {
   "cell_type": "code",
   "execution_count": null,
   "metadata": {},
   "outputs": [],
   "source": [
    "import pickle\n",
    "\n",
    "def save_object(obj,filename):\n",
    "    with open(filename,'wb') as output:\n",
    "        pickle.dump(obj,output,pickle.HIGHEST_PROTOCOL)\n",
    "\n",
    "save_object(twoSec_EC_epoch,filename=ROOT+sub+'/EEG/preproc/'+sub+'_epoch_eyesClosed')\n"
   ]
  },
  {
   "cell_type": "code",
   "execution_count": null,
   "metadata": {},
   "outputs": [],
   "source": [
    "save_object(twoSec_EO_epoch,filename=ROOT+sub+'/EEG/preproc/'+sub+'_epoch_eyesOpen')"
   ]
  },
  {
   "cell_type": "code",
   "execution_count": null,
   "metadata": {},
   "outputs": [],
   "source": [
    "def read_object(filename):\n",
    "\n",
    "                ''' short hand for reading object because I can never remember pickle syntax'''\n",
    "\n",
    "                o = pickle.load(open(filename, \"rb\"))     \n",
    "\n",
    "                return o\n",
    "a=read_object(ROOT+sub+'/EEG/preproc/'+sub+'_epoch_eyesClosed')"
   ]
  },
  {
   "cell_type": "code",
   "execution_count": null,
   "metadata": {},
   "outputs": [],
   "source": [
    "a.plot()\n"
   ]
  },
  {
   "cell_type": "code",
   "execution_count": null,
   "metadata": {},
   "outputs": [],
   "source": []
  }
 ],
 "metadata": {
  "kernelspec": {
   "display_name": "Python 2",
   "language": "python",
   "name": "python2"
  },
  "language_info": {
   "codemirror_mode": {
    "name": "ipython",
    "version": 2
   },
   "file_extension": ".py",
   "mimetype": "text/x-python",
   "name": "python",
   "nbconvert_exporter": "python",
   "pygments_lexer": "ipython2",
   "version": "2.7.15"
  }
 },
 "nbformat": 4,
 "nbformat_minor": 2
}
