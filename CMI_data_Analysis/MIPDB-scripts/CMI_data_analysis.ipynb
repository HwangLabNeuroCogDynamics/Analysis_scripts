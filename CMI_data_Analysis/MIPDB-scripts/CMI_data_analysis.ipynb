{
 "cells": [
  {
   "cell_type": "markdown",
   "metadata": {},
   "source": [
    "# Fourier transforming 2 second epochs"
   ]
  },
  {
   "cell_type": "code",
   "execution_count": 1,
   "metadata": {},
   "outputs": [],
   "source": [
    "import mne\n",
    "from mne.datasets import sample\n",
    "from mne import io\n",
    "from mne.preprocessing import create_ecg_epochs, create_eog_epochs\n",
    "from mne.preprocessing import ICA\n",
    "import numpy as np\n",
    "import pandas as pd\n",
    "import matplotlib.pyplot as plt\n",
    "#import autoreject\n",
    "#from autoreject import *\n",
    "import scipy\n",
    "from scipy.spatial.distance import pdist\n",
    "from scipy.cluster.hierarchy import dendrogram,linkage\n",
    "from scipy.stats.mstats import zscore\n",
    "from fooof import FOOOF\n",
    "\n",
    "#ROOT = '/home/dcellier/RDSS/CMI_data/MIPDB/EEGData/'\n",
    "ROOT= '/data/backed_up/shared/CMI_data/MIPDB/preproc_RS/'"
   ]
  },
  {
   "cell_type": "code",
   "execution_count": 2,
   "metadata": {},
   "outputs": [],
   "source": [
    "#import pickle\n",
    "#sub='A00056054'\n",
    "#def read_object(filename):\n",
    "#\n",
    " #               ''' short hand for reading object because I can never remember pickle syntax'''\n",
    "#\n",
    " #               o = pickle.load(open(filename, \"rb\"))     \n",
    "#\n",
    " #               return o\n",
    "#twoSec_EO_epoch=read_object(ROOT+sub+'/EEG/preproc/'+sub+'_epoch_eyesOpen')\n",
    "#twoSec_EC_epoch=read_object(ROOT+sub+'/EEG/preproc/'+sub+'_epoch_eyesClosed')"
   ]
  },
  {
   "cell_type": "code",
   "execution_count": 3,
   "metadata": {},
   "outputs": [],
   "source": [
    "sub='A00055424'#'A00053440'#\"A00055628\"#\n",
    "#sub2='A00059904'#'A00059578' #'A00055486'"
   ]
  },
  {
   "cell_type": "code",
   "execution_count": 4,
   "metadata": {},
   "outputs": [
    {
     "name": "stdout",
     "output_type": "stream",
     "text": [
      "Reading /data/backed_up/shared/CMI_data/MIPDB/preproc_RS/A00055424/A00055424_eyes_closed_epoch_0-epo.fif ...\n",
      "    Found the data of interest:\n",
      "        t =       0.00 ...    2000.00 ms\n",
      "        0 CTF compensation matrices available\n",
      "18 matching events found\n",
      "Applying baseline correction (mode: mean)\n",
      "18 matching events found\n",
      "Applying baseline correction (mode: mean)\n",
      "Not setting metadata\n",
      "0 projection items activated\n",
      "Reading /data/backed_up/shared/CMI_data/MIPDB/preproc_RS/A00055424/A00055424_eyes_open_epoch_0-epo.fif ...\n",
      "    Found the data of interest:\n",
      "        t =       0.00 ...    2000.00 ms\n",
      "        0 CTF compensation matrices available\n",
      "8 matching events found\n",
      "Applying baseline correction (mode: mean)\n",
      "8 matching events found\n",
      "Applying baseline correction (mode: mean)\n",
      "Not setting metadata\n",
      "0 projection items activated\n"
     ]
    }
   ],
   "source": [
    "EC2=mne.read_epochs(ROOT+sub+'/'+sub+'_eyes_closed_epoch_0-epo.fif')\n",
    "EO2=mne.read_epochs(ROOT+sub+'/'+sub+'_eyes_open_epoch_0-epo.fif')"
   ]
  },
  {
   "cell_type": "code",
   "execution_count": 5,
   "metadata": {},
   "outputs": [],
   "source": [
    "#EC=mne.read_epochs(ROOT+sub+'/'+sub+'_eyes_closed_epoch_4-epo.fif')\n",
    "#EO=mne.read_epochs(ROOT+sub+'/'+sub+'_eyes_open_epoch_4-epo.fif')"
   ]
  },
  {
   "cell_type": "code",
   "execution_count": 7,
   "metadata": {
    "scrolled": true
   },
   "outputs": [],
   "source": [
    "#EC.plot_psd_topomap(ch_type='eeg', normalize=True,cmap='inferno',outlines='head') \n",
    "#interactive mode possible in ipython"
   ]
  },
  {
   "cell_type": "code",
   "execution_count": null,
   "metadata": {},
   "outputs": [],
   "source": [
    "EC.info['ch_names']\n",
    "#len(EC.times)\n",
    "\n"
   ]
  },
  {
   "cell_type": "code",
   "execution_count": 16,
   "metadata": {},
   "outputs": [
    {
     "name": "stdout",
     "output_type": "stream",
     "text": [
      "Effective window size : 0.252 (s)\n"
     ]
    }
   ],
   "source": [
    "### WHAT IS n_fft doing?? ###\n",
    "\n",
    "#should be using the scrubbed epochs but its ok for now\n",
    "psds,freqs=mne.time_frequency.psd_welch(EC2,fmin=1,fmax=50,tmax=2,n_fft=126,n_overlap=(len(EO2.times)*.125))\n",
    "# default FFT is 256\n",
    "# n_overlap at 12.5% like sangtae\n",
    "# length of ea Welch segment defaults to 256\n",
    "# *** this function is taking issue w/ picks=realData-- don't know why ****\n",
    "# there is another function, mne.time_frequency.psd_array_welch-- what's the diff?\n",
    "# psds = psd's, shape (n_epochs,n_channels,n_freqs)\n",
    "    # should I average over n_epochs now?\n",
    "        # and then for IAF it would be the avg psd's for occiptal electrodes & alpha freqs ?\n",
    "        "
   ]
  },
  {
   "cell_type": "code",
   "execution_count": 12,
   "metadata": {},
   "outputs": [],
   "source": [
    "#psds2,freqs2=mne.time_frequency.psd_welch(EC2,fmin=1,fmax=50,tmax=.25,n_fft=126,n_overlap=(len(EC2.times)*.125))"
   ]
  },
  {
   "cell_type": "code",
   "execution_count": 17,
   "metadata": {},
   "outputs": [
    {
     "data": {
      "text/plain": [
       "(18, 90, 12)"
      ]
     },
     "execution_count": 17,
     "metadata": {},
     "output_type": "execute_result"
    }
   ],
   "source": [
    "psds.shape"
   ]
  },
  {
   "cell_type": "code",
   "execution_count": null,
   "metadata": {},
   "outputs": [],
   "source": [
    "group_psds=[]\n",
    "group_psds.append(psds)\n",
    "avg"
   ]
  },
  {
   "cell_type": "code",
   "execution_count": null,
   "metadata": {},
   "outputs": [],
   "source": [
    "k=np.concatenate(([psds,psds2]),axis=0)"
   ]
  },
  {
   "cell_type": "code",
   "execution_count": null,
   "metadata": {},
   "outputs": [],
   "source": [
    "k.shape"
   ]
  },
  {
   "cell_type": "code",
   "execution_count": null,
   "metadata": {},
   "outputs": [],
   "source": [
    "t=np.mean(k,axis=0)\n",
    "t.shape"
   ]
  },
  {
   "cell_type": "code",
   "execution_count": null,
   "metadata": {},
   "outputs": [],
   "source": []
  },
  {
   "cell_type": "code",
   "execution_count": null,
   "metadata": {},
   "outputs": [],
   "source": [
    "# electrode clustering: run on all sbujects, average over\n",
    "# similarity matrix bween every electrode and every other, builds up hierarchically\n",
    "# w matlab: given all [Power Spectrum X channel] matrix, pdist function yields something that you feed into dendrogram (find scipy equivalent)\n",
    "\n",
    "# average in time domain (of epochs) across clusters, then run psd_welch on that. FOOOF takes a matrix of the psd's\n",
    "# frontal-central cluster and parietal occipital cluster manually for now, run FOOOF and give: peak freq, amp, bandwidth for theta/beta and alpha in parietal/occ cluster\n",
    "# give the slope and y-int for ea of the 2 clusters\n",
    "# 13 neural data points per person: beta fareq, beta amp, beta bandwidth, theta freq, theta amp, thea bandwidth, alpha freq, alpha amp, alpha bandwidth, frontal slope, frontal yint, posterior slope, yint   \n",
    "# demographic data points (age/sex)"
   ]
  },
  {
   "cell_type": "code",
   "execution_count": null,
   "metadata": {},
   "outputs": [],
   "source": [
    "#psds.shape"
   ]
  },
  {
   "cell_type": "code",
   "execution_count": null,
   "metadata": {},
   "outputs": [],
   "source": [
    "a={'d':(1,2,3,4),'x':(5,6,7,8)}\n",
    "a['d'][0]"
   ]
  },
  {
   "cell_type": "code",
   "execution_count": null,
   "metadata": {},
   "outputs": [],
   "source": [
    "chFreqs=np.mean(psds,axis=0)\n",
    "chFreqs.shape"
   ]
  },
  {
   "cell_type": "code",
   "execution_count": null,
   "metadata": {},
   "outputs": [],
   "source": [
    "np.matrix(psds)\n",
    "#chFreqs"
   ]
  },
  {
   "cell_type": "code",
   "execution_count": null,
   "metadata": {},
   "outputs": [],
   "source": [
    "#Y=pdist(zscore(np.corrcoef(chFreqs)))\n",
    "Y=pdist(chFreqs)\n",
    "Z= linkage(Y)#,optimal_ordering=True)\n",
    "Z.shape"
   ]
  },
  {
   "cell_type": "code",
   "execution_count": null,
   "metadata": {
    "scrolled": true
   },
   "outputs": [],
   "source": [
    "#Z"
   ]
  },
  {
   "cell_type": "code",
   "execution_count": null,
   "metadata": {},
   "outputs": [],
   "source": [
    "#val=pdist(psd,'euclidean')\n",
    "#val.shape\n",
    "#val"
   ]
  },
  {
   "cell_type": "code",
   "execution_count": null,
   "metadata": {
    "scrolled": false
   },
   "outputs": [],
   "source": [
    "fig=plt.figure(figsize=(10,15))\n",
    "dend=dendrogram(Z,128,leaf_font_size=10,orientation='left',color_threshold=0.1*max(Z[:,2]),labels=np.asarray(EC.info['ch_names']),truncate_mode='mlab')\n",
    "# changed the threshold from matlab default of 0.7 to 0.5"
   ]
  },
  {
   "cell_type": "code",
   "execution_count": null,
   "metadata": {},
   "outputs": [],
   "source": [
    "dend.keys()\n",
    "print(dend['ivl'])\n",
    "from collections import defaultdict"
   ]
  },
  {
   "cell_type": "code",
   "execution_count": null,
   "metadata": {},
   "outputs": [],
   "source": [
    "len(dend['ivl'])"
   ]
  },
  {
   "cell_type": "code",
   "execution_count": null,
   "metadata": {},
   "outputs": [],
   "source": [
    "#cluster_idxs\n",
    "#dend['color_list']"
   ]
  },
  {
   "cell_type": "code",
   "execution_count": null,
   "metadata": {},
   "outputs": [],
   "source": [
    "#print(cluster_idxs.items())\n",
    "#print(cluster_idxs.keys())\n",
    "#cluster_idxs['b']"
   ]
  },
  {
   "cell_type": "code",
   "execution_count": null,
   "metadata": {},
   "outputs": [],
   "source": [
    "def color_map(chs,coordinates,dend): \n",
    "    \n",
    "    ## chs= list of electrodes to be 3d plotted, \n",
    "    ## coordinates= the coordinates of the electrodes to be plotted\n",
    "    ## dend= a dendrogram of clustered electrodes \n",
    "    \n",
    "    cluster_idxs = defaultdict(list) # this is creating a dict of color:channel inds in dend\n",
    "    for c, pi in zip(dend['color_list'], dend['icoord']):\n",
    "        for leg in pi[1:3]:\n",
    "            i = (leg - 5.0) / 10.0\n",
    "            if abs(i - int(i)) < 1e-5:\n",
    "                cluster_idxs[c].append(int(i))\n",
    "    \n",
    "    colors_dict=defaultdict(list)          \n",
    "    coor_colors=np.zeros(len(chs))\n",
    "    coor_colors=list(coor_colors)\n",
    "    for color in cluster_idxs.keys():\n",
    "        leaf_inds=cluster_idxs[color] # list of leaf inds for that color cluster\n",
    "        for ind in leaf_inds:\n",
    "            ch_name=dend['ivl'][ind] # grab the leaf label \n",
    "            coor_colors[chs.index(ch_name)]=color\n",
    "            colors_dict[color].append(ch_name)\n",
    "            #and match it to a label in dataChannels, \n",
    "            #then insert the color corresponding that ch_name\n",
    "            # into coor_colors\n",
    "    \n",
    "    #%pylab inline\n",
    "    from mpl_toolkits.mplot3d import Axes3D\n",
    "\n",
    "    fig=plt.figure()\n",
    "    fig2=plt.figure()\n",
    "    ax=fig.add_subplot((111),projection='3d')\n",
    "    ax2=fig2.add_subplot((111))\n",
    "    coor2plot=coordinates\n",
    "    for coor in range(len(coor2plot)):\n",
    "        ax.scatter(xs=coor2plot[coor,0],ys=coor2plot[coor,1],zs=coor2plot[coor,2],c=coor_colors[coor],depthshade=True)\n",
    "        ax2.scatter(x=coor2plot[coor,0],y=coor2plot[coor,1],c=coor_colors[coor])\n",
    "        ax.text(x=coor2plot[coor,0],y=coor2plot[coor,1],z=coor2plot[coor,2],s=chs[coor])\n",
    "        ax2.text(x=coor2plot[coor,0],y=coor2plot[coor,1],s=chs[coor])\n",
    "    return plt.show(),colors_dict"
   ]
  },
  {
   "cell_type": "code",
   "execution_count": null,
   "metadata": {},
   "outputs": [],
   "source": [
    "#ROOT2 = '/home/dcellier/RDSS/CMI_data/MIPDB/EEGData/'\n",
    "#raw_file=ROOT2+\"A00056054/EEG/raw/raw_format/A00056054001.raw\" #\"A00051955/EEG/raw/raw_format/A00051955001.raw\"#\n",
    "#raw=mne.io.read_raw_egi(raw_file,montage=mne.channels.read_montage(kind='GSN-HydroCel-129'),preload=True, verbose=True)\n",
    "#raw2=mne.io.read_raw_egi(raw_file,montage=mne.channels.read_montage(kind='GSN-HydroCel-128'),preload=True, verbose=True)\n",
    "\n",
    "#chs_indices=mne.pick_types(raw.info,eeg=True)\n",
    "#chs_list=raw.info['ch_names'][:129]\n",
    "#len(chs_list)\n",
    "\n",
    "chs_list=['E1','E2', 'E3', 'E4', 'E5', 'E6', 'E7', 'E8', 'E9', 'E10', 'E11', 'E12',\n",
    "          'E13', 'E14', 'E15', 'E16', 'E17', 'E18', 'E19', 'E20',\n",
    "          'E21', 'E22', 'E23', 'E24', 'E25', 'E26', 'E27', 'E28', 'E29',\n",
    "          'E30', 'E31', 'E32', 'E33', 'E34', 'E35', 'E36', 'E37', 'E38', \n",
    "          'E39', 'E40', 'E41', 'E42', 'E43', 'E44', 'E45', 'E46',\n",
    "          'E47','E48', 'E49', 'E50', 'E51', 'E52',\n",
    "          'E53', 'E54', 'E55', 'E56', 'E57',\n",
    "          'E58', 'E59', 'E60', 'E61', 'E62', 'E63', 'E64',\n",
    "          'E65', 'E66', 'E67', 'E68', 'E69', 'E70', 'E71',\n",
    "          'E72', 'E73', 'E74', 'E75', 'E76', 'E77', 'E78', 'E79',\n",
    "          'E80', 'E81', 'E82', 'E83', 'E84',\n",
    "          'E85', 'E86','E87', 'E88', 'E89', 'E90', 'E91', 'E92', 'E93',\n",
    "          'E94', 'E95', 'E96', 'E97', 'E98', 'E99', 'E100', 'E101',\n",
    "           'E102', 'E103', 'E104', 'E105', 'E106', 'E107', 'E108',\n",
    "           'E109', 'E110', 'E111', 'E112', 'E113', 'E114', 'E115',\n",
    "          'E116', 'E117', 'E118', 'E119', 'E120', 'E121', \n",
    "          'E122', 'E123', 'E124', 'E125', 'E126', 'E127', 'E128','E129']\n",
    "\n",
    "dataChannels = ['E2','E3','E4','E5','E6','E7','E9','E10','E11','E12',\n",
    "    'E13','E15','E16','E18','E19','E20','E22','E23','E24','E26',\n",
    "    'E27','E28','E29','E30','E31','E33','E34','E35','E36','E37',\n",
    "    'E39','E40','E41','E42','E45','E46','E47','E50','E51','E52','E53','E54','E55','E58','E59','E60','E61',\n",
    "    'E62','E65','E66','E67','E70','E71','E72','E75','E76','E77','E78','E79','E80','E83','E84',\n",
    "    'E85','E86','E87','E90','E91','E92','E93','E96','E97','E98','E101','E102','E103','E104',\n",
    "    'E105','E106','E108','E109','E110','E111','E112','E115','E116','E117','E118','E122','E123','E124']\n",
    "#names=twoSec_EO_epoch.info['ch_names']\n",
    "\n",
    "\n",
    "#plot\n",
    "#twoSec_EO_epoch.info['ch_names'].index('E4')\n",
    "#dataInds\n",
    "\n",
    "layout=mne.channels.read_montage(kind='GSN-HydroCel-129')\n",
    "coordinates=layout.pos\n",
    "coordinates=coordinates[3:] #slicing to exclude FidNz, FidT9, FidT10\n",
    "len(coordinates)\n",
    "\n",
    "#new list of coordinates where the indices of the coords match the dataCh inds\n",
    "coor2plot=np.zeros(len(dataChannels))\n",
    "coor2plot=list(coor2plot)\n",
    "for i in chs_list: # iter thru elems in all channels list\n",
    "    if i in dataChannels: # if the elem is also in dataChannels\n",
    "        coor2plot[dataChannels.index(i)]=list(coordinates)[chs_list.index(i)]\n",
    "        # then fill coor2plot with the coordinates of the elem, but make sure it's\n",
    "        # inserted at an index that matches the index of the corresponding\n",
    "        # dataChannels label\n",
    "\n",
    "#coor2plot=[list(coordinates[chs_list.index(i)]) for i in chs_list if i in dataChannels] \n",
    "# getting the coordinates of the data channels\n",
    "coor2plot=np.asarray(coor2plot)\n",
    "coor2plot[:,2].shape"
   ]
  },
  {
   "cell_type": "code",
   "execution_count": null,
   "metadata": {},
   "outputs": [],
   "source": [
    "#3333333coor2plot"
   ]
  },
  {
   "cell_type": "code",
   "execution_count": null,
   "metadata": {},
   "outputs": [],
   "source": [
    "#coor2plot"
   ]
  },
  {
   "cell_type": "code",
   "execution_count": null,
   "metadata": {},
   "outputs": [],
   "source": [
    "#len(chs_list)"
   ]
  },
  {
   "cell_type": "code",
   "execution_count": null,
   "metadata": {},
   "outputs": [],
   "source": [
    "plot,colors=color_map(dataChannels,coor2plot,dend)"
   ]
  },
  {
   "cell_type": "code",
   "execution_count": null,
   "metadata": {},
   "outputs": [],
   "source": [
    "len(colors['y'])"
   ]
  },
  {
   "cell_type": "code",
   "execution_count": null,
   "metadata": {},
   "outputs": [],
   "source": [
    "notRed=[i for i in dataChannels if i not in colors['c']]\n",
    "#twoSec_EC_epoch.load_data()\n",
    "#twoSec_EO_epoch.load_data()\n",
    "EC.load_data()\n",
    "EO.load_data()\n",
    "ec=EC.copy()\n",
    "eo=EO.copy()\n",
    "epEC_mf=ec.drop_channels(notRed)\n",
    "epEO_mf=eo.drop_channels(notRed)\n",
    "\n",
    "#notTeal=[e for e in dataChannels if e not in colors['c']]\n",
    "#ec2=twoSec_EC_epoch.copy()\n",
    "#eo2=twoSec_EO_epoch.copy()\n",
    "#epEC_po=ec2.drop_channels(notTeal)\n",
    "#epEO_po=eo2.drop_channels(notTeal)\n"
   ]
  },
  {
   "cell_type": "code",
   "execution_count": null,
   "metadata": {},
   "outputs": [],
   "source": [
    "epEC_mf.average().plot()\n",
    "epEO_mf.average().plot()"
   ]
  },
  {
   "cell_type": "code",
   "execution_count": null,
   "metadata": {},
   "outputs": [],
   "source": [
    "psdsEC_mf,freqsEC_mf=mne.time_frequency.psd_welch(epEC_mf,fmin=1,fmax=50,tmax=.25,n_fft=126,n_overlap=(len(EC.times)*.125))\n",
    "psdsEO_mf,freqsEO_mf=mne.time_frequency.psd_welch(epEO_mf,fmin=1,fmax=50,tmax=.25,n_fft=126,n_overlap=(len(EO.times)*.125))"
   ]
  },
  {
   "cell_type": "code",
   "execution_count": null,
   "metadata": {},
   "outputs": [],
   "source": [
    "psdsEO_mf.shape"
   ]
  },
  {
   "cell_type": "code",
   "execution_count": null,
   "metadata": {},
   "outputs": [],
   "source": [
    "#new_psds=[]\n",
    "#for ch in colors['r']:\n",
    " #   ind=dataChannels.index(ch)\n",
    "#    new_psds.append(psdsEO[ind,:])"
   ]
  },
  {
   "cell_type": "code",
   "execution_count": null,
   "metadata": {},
   "outputs": [],
   "source": [
    "#psdsEO=np.asarray(new_psds)\n",
    "#psdsEO.shape"
   ]
  },
  {
   "cell_type": "code",
   "execution_count": null,
   "metadata": {},
   "outputs": [],
   "source": [
    "avg_psds_EC_mf=np.mean(psdsEC_mf,axis=0)\n",
    "\n",
    "avg_psds_EO_mf=np.mean(psdsEO_mf,axis=0)"
   ]
  },
  {
   "cell_type": "code",
   "execution_count": null,
   "metadata": {},
   "outputs": [],
   "source": [
    "print(avg_psds_EC_mf.shape)"
   ]
  },
  {
   "cell_type": "code",
   "execution_count": null,
   "metadata": {},
   "outputs": [],
   "source": [
    "avg_psds_EC_mf=np.mean(avg_psds_EC_mf,axis=0)\n",
    "avg_psds_EO_mf=np.mean(avg_psds_EO_mf,axis=0)"
   ]
  },
  {
   "cell_type": "code",
   "execution_count": null,
   "metadata": {},
   "outputs": [],
   "source": [
    "avg_psds_EC_mf.shape"
   ]
  },
  {
   "cell_type": "code",
   "execution_count": null,
   "metadata": {},
   "outputs": [],
   "source": [
    "freqsEO_mf.shape"
   ]
  },
  {
   "cell_type": "code",
   "execution_count": null,
   "metadata": {
    "scrolled": false
   },
   "outputs": [],
   "source": [
    "fmEC_mf= FOOOF()\n",
    "\n",
    "\n",
    "freq_range=[1,50]\n",
    "\n",
    "fmEC_mf.report(freqsEC_mf,avg_psds_EC_mf,freq_range)"
   ]
  },
  {
   "cell_type": "code",
   "execution_count": null,
   "metadata": {},
   "outputs": [],
   "source": [
    "FOOOF.report?\n",
    "#FOOOF.get_results?"
   ]
  },
  {
   "cell_type": "code",
   "execution_count": null,
   "metadata": {},
   "outputs": [],
   "source": [
    "ress= fmEC_mf.get_results()\n",
    "for i in ress.peak_params:\n",
    "    print(i)\n",
    "    for t in i:\n",
    "        print(t)"
   ]
  },
  {
   "cell_type": "code",
   "execution_count": null,
   "metadata": {},
   "outputs": [],
   "source": [
    "fmEO_mf= FOOOF()\n",
    "\n",
    "freq_range=[1,50]\n",
    "\n",
    "fmEO_mf.report(freqsEO_mf,avg_psds_EO_mf,freq_range)"
   ]
  },
  {
   "cell_type": "code",
   "execution_count": null,
   "metadata": {},
   "outputs": [],
   "source": [
    "theta_band=[4,8]\n",
    "alpha_band=[8,12]\n",
    "beta_band=[15,30]"
   ]
  },
  {
   "cell_type": "code",
   "execution_count": null,
   "metadata": {},
   "outputs": [],
   "source": [
    "from fooof import FOOOF, FOOOFGroup\n",
    "from fooof.synth import gen_group_power_spectra,param_sampler\n",
    "from fooof.analysis import get_band_peak, get_band_peak_group\n",
    "\n",
    "get_band_peak?\n"
   ]
  },
  {
   "cell_type": "code",
   "execution_count": null,
   "metadata": {},
   "outputs": [],
   "source": [
    "alphas=get_band_peak(fmEO_mf.peak_params_,alpha_band,ret_one=True)\n",
    "print('Alpha CF: ',alphas[0])\n",
    "print('Amp: ', alphas[1])\n",
    "print('Bandwidth: ', alphas[2])"
   ]
  },
  {
   "cell_type": "code",
   "execution_count": null,
   "metadata": {},
   "outputs": [],
   "source": [
    "betas=get_band_peak(fmEO_mf.peak_params_,beta_band,ret_one=True)\n",
    "print('Beta CF: ',betas[0])\n",
    "print('Amp: ', betas[1])\n",
    "print('Bandwidth: ', betas[2])"
   ]
  },
  {
   "cell_type": "code",
   "execution_count": null,
   "metadata": {},
   "outputs": [],
   "source": [
    "betas"
   ]
  },
  {
   "cell_type": "code",
   "execution_count": null,
   "metadata": {},
   "outputs": [],
   "source": [
    "thetas=get_band_peak(fmEO_mf.peak_params_,theta_band,ret_one=True)\n",
    "print('Theta CF: ',thetas[0])\n",
    "print('Amp: ', thetas[1])\n",
    "print('Bandwidth: ', thetas[2])"
   ]
  },
  {
   "cell_type": "code",
   "execution_count": null,
   "metadata": {},
   "outputs": [],
   "source": [
    "psdsEC_po,freqsEC_po=mne.time_frequency.psd_welch(epEC_po.average(),fmin=1,fmax=50,tmax=2,n_overlap=(len(twoSec_EC_epoch.times)*.125))\n",
    "psdsEO_po,freqsEO_po=mne.time_frequency.psd_welch(epEO_po.average(),fmin=1,fmax=50,tmax=2,n_overlap=(len(twoSec_EO_epoch.times)*.125))\n",
    "avg_psds_EC_po=np.mean(psdsEC_po,axis=0)\n",
    "print(avg_psds_EC_po.shape)\n",
    "avg_psds_EO_po=np.mean(psdsEO_po,axis=0)"
   ]
  },
  {
   "cell_type": "code",
   "execution_count": null,
   "metadata": {},
   "outputs": [],
   "source": [
    "fmEC_po= FOOOF()\n",
    "freq_range=[1,50]\n",
    "fmEC_po.report(freqsEC_po,avg_psds_EC_po,freq_range)"
   ]
  },
  {
   "cell_type": "code",
   "execution_count": null,
   "metadata": {},
   "outputs": [],
   "source": [
    "fmEO_po= FOOOF()\n",
    "fmEO_po.report(freqsEO_po,avg_psds_EO_po,freq_range)"
   ]
  },
  {
   "cell_type": "code",
   "execution_count": null,
   "metadata": {},
   "outputs": [],
   "source": [
    "alphas=get_band_peak(fmEO_po.peak_params_,alpha_band,ret_one=True)\n",
    "print('Alpha CF: ',alphas[0])\n",
    "print('Amp: ', alphas[1])\n",
    "print('Bandwidth: ', alphas[2])"
   ]
  },
  {
   "cell_type": "code",
   "execution_count": null,
   "metadata": {},
   "outputs": [],
   "source": [
    "betas=get_band_peak(fmEO_po.peak_params_,beta_band,ret_one=True)\n",
    "print('Beta CF: ',betas[0])\n",
    "print('Amp: ', betas[1])\n",
    "print('Bandwidth: ', betas[2])"
   ]
  },
  {
   "cell_type": "code",
   "execution_count": null,
   "metadata": {},
   "outputs": [],
   "source": [
    "thetas=get_band_peak(fmEO_po.peak_params_,theta_band,ret_one=True)\n",
    "print('Theta CF: ',thetas[0])\n",
    "print('Amp: ', thetas[1])\n",
    "print('Bandwidth: ', thetas[2])"
   ]
  },
  {
   "cell_type": "code",
   "execution_count": null,
   "metadata": {},
   "outputs": [],
   "source": []
  },
  {
   "cell_type": "code",
   "execution_count": null,
   "metadata": {},
   "outputs": [],
   "source": []
  }
 ],
 "metadata": {
  "kernelspec": {
   "display_name": "Python 2",
   "language": "python",
   "name": "python2"
  },
  "language_info": {
   "codemirror_mode": {
    "name": "ipython",
    "version": 2
   },
   "file_extension": ".py",
   "mimetype": "text/x-python",
   "name": "python",
   "nbconvert_exporter": "python",
   "pygments_lexer": "ipython2",
   "version": "2.7.15"
  }
 },
 "nbformat": 4,
 "nbformat_minor": 2
}
